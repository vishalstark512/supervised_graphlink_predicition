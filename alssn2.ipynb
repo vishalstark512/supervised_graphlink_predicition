{
 "cells": [
  {
   "cell_type": "markdown",
   "metadata": {
    "id": "168QPRizVFFg",
    "papermill": {
     "duration": 0.066645,
     "end_time": "2021-05-06T09:40:10.415365",
     "exception": false,
     "start_time": "2021-05-06T09:40:10.348720",
     "status": "completed"
    },
    "tags": []
   },
   "source": [
    "<p style=\"font-size:32px;text-align:center\"> <b>Social network Graph Link Prediction - Facebook Challenge</b> </p>"
   ]
  },
  {
   "cell_type": "code",
   "execution_count": 2,
   "metadata": {
    "execution": {
     "iopub.execute_input": "2021-05-06T09:40:10.573547Z",
     "iopub.status.busy": "2021-05-06T09:40:10.572968Z",
     "iopub.status.idle": "2021-05-06T09:40:11.999651Z",
     "shell.execute_reply": "2021-05-06T09:40:11.999007Z"
    },
    "id": "Q8lS7fVyVFFl",
    "papermill": {
     "duration": 1.519198,
     "end_time": "2021-05-06T09:40:11.999795",
     "exception": false,
     "start_time": "2021-05-06T09:40:10.480597",
     "status": "completed"
    },
    "tags": []
   },
   "outputs": [],
   "source": [
    "#Importing Libraries\n",
    "# please do go through this python notebook: \n",
    "import warnings\n",
    "warnings.filterwarnings(\"ignore\")\n",
    "\n",
    "import csv\n",
    "import pandas as pd#pandas to create small dataframes \n",
    "import datetime #Convert to unix time\n",
    "import time #Convert to unix time\n",
    "# if numpy is not installed already : pip3 install numpy\n",
    "import numpy as np#Do aritmetic operations on arrays\n",
    "# matplotlib: used to plot graphs\n",
    "import matplotlib\n",
    "import matplotlib.pylab as plt\n",
    "import seaborn as sns#Plots\n",
    "from matplotlib import rcParams#Size of plots  \n",
    "from sklearn.cluster import MiniBatchKMeans, KMeans#Clustering\n",
    "import math\n",
    "import pickle\n",
    "import os\n",
    "# to install xgboost: pip3 install xgboost\n",
    "import xgboost as xgb\n",
    "\n",
    "import networkx as nx\n",
    "import pdb\n",
    "from pandas import HDFStore,DataFrame\n",
    "from pandas import read_hdf\n",
    "from scipy.sparse.linalg import svds, eigs\n",
    "import gc\n",
    "from tqdm import tqdm\n",
    "\n",
    "#Importing Libraries\n",
    "# please do go through this python notebook: \n",
    "import warnings\n",
    "warnings.filterwarnings(\"ignore\")\n"
   ]
  },
  {
   "cell_type": "markdown",
   "metadata": {},
   "source": [
    "### Info\n",
    "Note that this notebook uses feature vectors of a very large dataset. This makes that some cells can take very long to run, especially in the sections where the model is trained and the graph embedding extraction. In addition memory usage is also high. All outputs are normally already there. It is also easiest to work with Jupyter notebook to run this notebook. All required files are included in the submitted folder and should not be changed of place for the notebook to run correctly."
   ]
  },
  {
   "cell_type": "markdown",
   "metadata": {
    "papermill": {
     "duration": 0.063985,
     "end_time": "2021-05-06T09:40:12.128702",
     "exception": false,
     "start_time": "2021-05-06T09:40:12.064717",
     "status": "completed"
    },
    "tags": []
   },
   "source": [
    "### Problem statement: \n",
    "The problem we try to tackle is to perform a link prediction on a social network graph. The setting this is used in will be in a directed graph where nodes represent people and edges indicate if one person follows another. So link prediction could be used to generate a list for people you might know but you don't follow yet."
   ]
  },
  {
   "cell_type": "markdown",
   "metadata": {
    "papermill": {
     "duration": 0.064347,
     "end_time": "2021-05-06T09:40:12.258020",
     "exception": false,
     "start_time": "2021-05-06T09:40:12.193673",
     "status": "completed"
    },
    "tags": []
   },
   "source": [
    "### Data Overview\n",
    "Taken data from facebook's recruting challenge on kaggle https://www.kaggle.com/c/FacebookRecruiting  \n",
    "data contains two columns source and destination eac edge in graph \n",
    "    - Data columns (total 2 columns):  \n",
    "    - source_node         int64  \n",
    "    - destination_node    int64  "
   ]
  },
  {
   "cell_type": "markdown",
   "metadata": {
    "papermill": {
     "duration": 0.065397,
     "end_time": "2021-05-06T09:40:12.388785",
     "exception": false,
     "start_time": "2021-05-06T09:40:12.323388",
     "status": "completed"
    },
    "tags": []
   },
   "source": [
    "### Mapping the problem into supervised learning problem:\n",
    "- Generated training samples of good and bad links from given directed graph and for each link got some features like no of followers, is he followed back, page rank, katz score, adar index, some svd fetures of adj matrix, some weight features etc. and trained ml model based on these features to predict link. \n",
    "- Some reference papers and videos :  \n",
    "    - https://www.cs.cornell.edu/home/kleinber/link-pred.pdf\n",
    "    - https://www3.nd.edu/~dial/publications/lichtenwalter2010new.pdf\n",
    "    - https://kaggle2.blob.core.windows.net/forum-message-attachments/2594/supervised_link_prediction.pdf\n",
    "    - https://www.youtube.com/watch?v=2M77Hgy17cg"
   ]
  },
  {
   "cell_type": "markdown",
   "metadata": {
    "papermill": {
     "duration": 0.082695,
     "end_time": "2021-05-06T09:40:12.535684",
     "exception": false,
     "start_time": "2021-05-06T09:40:12.452989",
     "status": "completed"
    },
    "tags": []
   },
   "source": [
    "### Business objectives and constraints:  \n",
    "- No low-latency requirement.\n",
    "- Probability of prediction is useful to recommend ighest probability links"
   ]
  },
  {
   "cell_type": "markdown",
   "metadata": {
    "papermill": {
     "duration": 0.10618,
     "end_time": "2021-05-06T09:40:12.760386",
     "exception": false,
     "start_time": "2021-05-06T09:40:12.654206",
     "status": "completed"
    },
    "tags": []
   },
   "source": [
    "### Performance metric for supervised learning:  \n",
    "- Both precision and recall is important so F1 score is good choice\n",
    "- Confusion matrix"
   ]
  },
  {
   "cell_type": "markdown",
   "metadata": {},
   "source": [
    "# Reading graph data\n",
    "As a first step, we need to read the data given by facebook and store it as a graph g. We work with a subgraph containing 1500000 rows of the train.csv file. This is done to keep the RAM usage limited."
   ]
  },
  {
   "cell_type": "code",
   "execution_count": 3,
   "metadata": {},
   "outputs": [],
   "source": [
    "tmp = pd.read_csv('train.csv', nrows=1500000).to_csv('./train_small.csv',header=False,index=False)"
   ]
  },
  {
   "cell_type": "markdown",
   "metadata": {},
   "source": [
    "Below are properties of the graph."
   ]
  },
  {
   "cell_type": "code",
   "execution_count": 4,
   "metadata": {
    "execution": {
     "iopub.execute_input": "2021-05-06T09:40:13.214197Z",
     "iopub.status.busy": "2021-05-06T09:40:13.213516Z",
     "iopub.status.idle": "2021-05-06T09:40:14.990152Z",
     "shell.execute_reply": "2021-05-06T09:40:14.989243Z"
    },
    "papermill": {
     "duration": 1.890409,
     "end_time": "2021-05-06T09:40:14.990311",
     "exception": false,
     "start_time": "2021-05-06T09:40:13.099902",
     "status": "completed"
    },
    "tags": []
   },
   "outputs": [
    {
     "name": "stdout",
     "output_type": "stream",
     "text": [
      "Name: \n",
      "Type: DiGraph\n",
      "Number of nodes: 882535\n",
      "Number of edges: 1500000\n",
      "Average in degree:   1.6996\n",
      "Average out degree:   1.6996\n"
     ]
    }
   ],
   "source": [
    "g=nx.read_edgelist('train_small.csv',delimiter=',',create_using=nx.DiGraph(),nodetype=int)\n",
    "print(nx.info(g))"
   ]
  },
  {
   "cell_type": "markdown",
   "metadata": {
    "papermill": {
     "duration": 0.068021,
     "end_time": "2021-05-06T09:40:16.566712",
     "exception": false,
     "start_time": "2021-05-06T09:40:16.498691",
     "status": "completed"
    },
    "tags": []
   },
   "source": [
    "# 1. Exploratory Data Analysis\n",
    "Exploratory data analysis is an approach of analyzing data sets to summarize their main characteristics, often using statistical graphics and other data visualization methods.\n",
    "\n",
    "In this section we will be anylizing the relations established between the Facebook users (nodes) present in the dataset."
   ]
  },
  {
   "cell_type": "code",
   "execution_count": 5,
   "metadata": {
    "execution": {
     "iopub.execute_input": "2021-05-06T09:40:16.706845Z",
     "iopub.status.busy": "2021-05-06T09:40:16.706346Z",
     "iopub.status.idle": "2021-05-06T09:40:16.817287Z",
     "shell.execute_reply": "2021-05-06T09:40:16.817682Z"
    },
    "papermill": {
     "duration": 0.182908,
     "end_time": "2021-05-06T09:40:16.817825",
     "exception": false,
     "start_time": "2021-05-06T09:40:16.634917",
     "status": "completed"
    },
    "tags": []
   },
   "outputs": [
    {
     "name": "stdout",
     "output_type": "stream",
     "text": [
      "The number of unique persons 882535\n"
     ]
    }
   ],
   "source": [
    "# No of Unique persons \n",
    "print(\"The number of unique persons\",len(g.nodes()))"
   ]
  },
  {
   "cell_type": "markdown",
   "metadata": {
    "papermill": {
     "duration": 0.069076,
     "end_time": "2021-05-06T09:40:16.955854",
     "exception": false,
     "start_time": "2021-05-06T09:40:16.886778",
     "status": "completed"
    },
    "tags": []
   },
   "source": [
    "## 1.1 No of followers for each person\n",
    "First, the amount of followers each person has is investigated."
   ]
  },
  {
   "cell_type": "code",
   "execution_count": 6,
   "metadata": {
    "execution": {
     "iopub.execute_input": "2021-05-06T09:40:17.108996Z",
     "iopub.status.busy": "2021-05-06T09:40:17.107915Z",
     "iopub.status.idle": "2021-05-06T09:40:17.111963Z",
     "shell.execute_reply": "2021-05-06T09:40:17.111512Z"
    },
    "papermill": {
     "duration": 0.087294,
     "end_time": "2021-05-06T09:40:17.112068",
     "exception": false,
     "start_time": "2021-05-06T09:40:17.024774",
     "status": "completed"
    },
    "tags": []
   },
   "outputs": [
    {
     "data": {
      "image/png": "[encoded data removed]",
      "text/plain": [
       "<Figure size 720x432 with 1 Axes>"
      ]
     },
     "metadata": {
      "needs_background": "light"
     },
     "output_type": "display_data"
    }
   ],
   "source": [
    "indegree_dist = list(dict(g.in_degree()).values())\n",
    "indegree_dist.sort()\n",
    "plt.figure(figsize=(10,6))\n",
    "plt.plot(indegree_dist)\n",
    "plt.xlabel('Index No')\n",
    "plt.ylabel('No Of Followers')\n",
    "plt.show()"
   ]
  },
  {
   "cell_type": "code",
   "execution_count": 7,
   "metadata": {
    "execution": {
     "iopub.execute_input": "2021-05-06T09:40:17.264232Z",
     "iopub.status.busy": "2021-05-06T09:40:17.263371Z",
     "iopub.status.idle": "2021-05-06T09:40:17.266940Z",
     "shell.execute_reply": "2021-05-06T09:40:17.267353Z"
    },
    "papermill": {
     "duration": 0.086311,
     "end_time": "2021-05-06T09:40:17.267484",
     "exception": false,
     "start_time": "2021-05-06T09:40:17.181173",
     "status": "completed"
    },
    "tags": []
   },
   "outputs": [
    {
     "data": {
      "image/png": "[encoded data removed]",
      "text/plain": [
       "<Figure size 720x432 with 1 Axes>"
      ]
     },
     "metadata": {
      "needs_background": "light"
     },
     "output_type": "display_data"
    }
   ],
   "source": [
    "indegree_dist = list(dict(g.in_degree()).values())\n",
    "indegree_dist.sort()\n",
    "plt.figure(figsize=(10,6))\n",
    "plt.plot(indegree_dist[0:1500000])\n",
    "plt.xlabel('Index No')\n",
    "plt.ylabel('No Of Followers')\n",
    "plt.show()"
   ]
  },
  {
   "cell_type": "code",
   "execution_count": 8,
   "metadata": {
    "execution": {
     "iopub.execute_input": "2021-05-06T09:40:17.421498Z",
     "iopub.status.busy": "2021-05-06T09:40:17.420756Z",
     "iopub.status.idle": "2021-05-06T09:40:17.424559Z",
     "shell.execute_reply": "2021-05-06T09:40:17.424141Z"
    },
    "papermill": {
     "duration": 0.087793,
     "end_time": "2021-05-06T09:40:17.424686",
     "exception": false,
     "start_time": "2021-05-06T09:40:17.336893",
     "status": "completed"
    },
    "tags": []
   },
   "outputs": [
    {
     "data": {
      "image/png": "[encoded data removed]",
      "text/plain": [
       "<Figure size 432x288 with 1 Axes>"
      ]
     },
     "metadata": {
      "needs_background": "light"
     },
     "output_type": "display_data"
    }
   ],
   "source": [
    "plt.boxplot(indegree_dist)\n",
    "plt.ylabel('No Of Followers')\n",
    "plt.show()"
   ]
  },
  {
   "cell_type": "code",
   "execution_count": 9,
   "metadata": {
    "execution": {
     "iopub.execute_input": "2021-05-06T09:40:17.578715Z",
     "iopub.status.busy": "2021-05-06T09:40:17.577871Z",
     "iopub.status.idle": "2021-05-06T09:40:17.581819Z",
     "shell.execute_reply": "2021-05-06T09:40:17.581402Z"
    },
    "papermill": {
     "duration": 0.087252,
     "end_time": "2021-05-06T09:40:17.581937",
     "exception": false,
     "start_time": "2021-05-06T09:40:17.494685",
     "status": "completed"
    },
    "tags": []
   },
   "outputs": [
    {
     "name": "stdout",
     "output_type": "stream",
     "text": [
      "90 percentile value is 4.0\n",
      "91 percentile value is 4.0\n",
      "92 percentile value is 4.0\n",
      "93 percentile value is 4.0\n",
      "94 percentile value is 5.0\n",
      "95 percentile value is 5.0\n",
      "96 percentile value is 6.0\n",
      "97 percentile value is 6.0\n",
      "98 percentile value is 7.0\n",
      "99 percentile value is 10.0\n",
      "100 percentile value is 83.0\n"
     ]
    }
   ],
   "source": [
    "### 90-100 percentile\n",
    "for i in range(0,11):\n",
    "    print(90+i,'percentile value is',np.percentile(indegree_dist,90+i))"
   ]
  },
  {
   "cell_type": "code",
   "execution_count": 10,
   "metadata": {
    "execution": {
     "iopub.execute_input": "2021-05-06T09:40:17.877747Z",
     "iopub.status.busy": "2021-05-06T09:40:17.876905Z",
     "iopub.status.idle": "2021-05-06T09:40:17.880490Z",
     "shell.execute_reply": "2021-05-06T09:40:17.880953Z"
    },
    "papermill": {
     "duration": 0.087471,
     "end_time": "2021-05-06T09:40:17.881092",
     "exception": false,
     "start_time": "2021-05-06T09:40:17.793621",
     "status": "completed"
    },
    "tags": []
   },
   "outputs": [
    {
     "name": "stdout",
     "output_type": "stream",
     "text": [
      "99.1 percentile value is 10.0\n",
      "99.2 percentile value is 11.0\n",
      "99.3 percentile value is 12.0\n",
      "99.4 percentile value is 12.0\n",
      "99.5 percentile value is 13.0\n",
      "99.6 percentile value is 14.0\n",
      "99.7 percentile value is 16.0\n",
      "99.8 percentile value is 19.0\n",
      "99.9 percentile value is 24.0\n",
      "100.0 percentile value is 83.0\n"
     ]
    }
   ],
   "source": [
    "### 99-100 percentile\n",
    "for i in range(10,110,10):\n",
    "    print(99+(i/100),'percentile value is',np.percentile(indegree_dist,99+(i/100)))"
   ]
  },
  {
   "cell_type": "markdown",
   "metadata": {},
   "source": [
    "Previous results indicate that most persons have very limited followers (99.9% have less than 23 followers)."
   ]
  },
  {
   "cell_type": "code",
   "execution_count": 11,
   "metadata": {
    "execution": {
     "iopub.execute_input": "2021-05-06T09:40:18.061141Z",
     "iopub.status.busy": "2021-05-06T09:40:18.059197Z",
     "iopub.status.idle": "2021-05-06T09:40:18.151323Z",
     "shell.execute_reply": "2021-05-06T09:40:18.150891Z"
    },
    "papermill": {
     "duration": 0.199316,
     "end_time": "2021-05-06T09:40:18.151460",
     "exception": false,
     "start_time": "2021-05-06T09:40:17.952144",
     "status": "completed"
    },
    "tags": []
   },
   "outputs": [
    {
     "data": {
      "image/png": "[encoded data removed]",
      "text/plain": [
       "<Figure size 842.4x595.44 with 1 Axes>"
      ]
     },
     "metadata": {},
     "output_type": "display_data"
    }
   ],
   "source": [
    "%matplotlib inline\n",
    "sns.set_style('ticks')\n",
    "fig, ax = plt.subplots()\n",
    "fig.set_size_inches(11.7, 8.27)\n",
    "sns.distplot(indegree_dist, color='#16A085')\n",
    "plt.xlabel('PDF of Indegree')\n",
    "sns.despine()\n",
    "#plt.show()"
   ]
  },
  {
   "cell_type": "markdown",
   "metadata": {
    "papermill": {
     "duration": 0.071897,
     "end_time": "2021-05-06T09:40:18.296408",
     "exception": false,
     "start_time": "2021-05-06T09:40:18.224511",
     "status": "completed"
    },
    "tags": []
   },
   "source": [
    "## 1.2 No of people each person is following\n",
    "The same analysis as for the number of followers, but this time looking at the number of followees."
   ]
  },
  {
   "cell_type": "code",
   "execution_count": 12,
   "metadata": {
    "execution": {
     "iopub.execute_input": "2021-05-06T09:40:18.455618Z",
     "iopub.status.busy": "2021-05-06T09:40:18.454723Z",
     "iopub.status.idle": "2021-05-06T09:40:18.458776Z",
     "shell.execute_reply": "2021-05-06T09:40:18.458339Z"
    },
    "papermill": {
     "duration": 0.09025,
     "end_time": "2021-05-06T09:40:18.458884",
     "exception": false,
     "start_time": "2021-05-06T09:40:18.368634",
     "status": "completed"
    },
    "tags": []
   },
   "outputs": [
    {
     "data": {
      "image/png": "[encoded data removed]",
      "text/plain": [
       "<Figure size 720x432 with 1 Axes>"
      ]
     },
     "metadata": {},
     "output_type": "display_data"
    }
   ],
   "source": [
    "outdegree_dist = list(dict(g.out_degree()).values())\n",
    "outdegree_dist.sort()\n",
    "plt.figure(figsize=(10,6))\n",
    "plt.plot(outdegree_dist)\n",
    "plt.xlabel('Index No')\n",
    "plt.ylabel('No Of people each person is following')\n",
    "plt.show()"
   ]
  },
  {
   "cell_type": "code",
   "execution_count": 13,
   "metadata": {
    "execution": {
     "iopub.execute_input": "2021-05-06T09:40:18.616612Z",
     "iopub.status.busy": "2021-05-06T09:40:18.615810Z",
     "iopub.status.idle": "2021-05-06T09:40:18.619448Z",
     "shell.execute_reply": "2021-05-06T09:40:18.619930Z"
    },
    "papermill": {
     "duration": 0.088955,
     "end_time": "2021-05-06T09:40:18.620055",
     "exception": false,
     "start_time": "2021-05-06T09:40:18.531100",
     "status": "completed"
    },
    "tags": []
   },
   "outputs": [
    {
     "data": {
      "image/png": "[encoded data removed]",
      "text/plain": [
       "<Figure size 720x432 with 1 Axes>"
      ]
     },
     "metadata": {},
     "output_type": "display_data"
    }
   ],
   "source": [
    "indegree_dist = list(dict(g.in_degree()).values())\n",
    "indegree_dist.sort()\n",
    "plt.figure(figsize=(10,6))\n",
    "plt.plot(outdegree_dist[0:1500000])\n",
    "plt.xlabel('Index No')\n",
    "plt.ylabel('No Of people each person is following')\n",
    "plt.show()"
   ]
  },
  {
   "cell_type": "code",
   "execution_count": 14,
   "metadata": {
    "execution": {
     "iopub.execute_input": "2021-05-06T09:40:18.769043Z",
     "iopub.status.busy": "2021-05-06T09:40:18.768344Z",
     "iopub.status.idle": "2021-05-06T09:40:18.779584Z",
     "shell.execute_reply": "2021-05-06T09:40:18.779167Z"
    },
    "papermill": {
     "duration": 0.08705,
     "end_time": "2021-05-06T09:40:18.779692",
     "exception": false,
     "start_time": "2021-05-06T09:40:18.692642",
     "status": "completed"
    },
    "tags": []
   },
   "outputs": [
    {
     "data": {
      "image/png": "[encoded data removed]",
      "text/plain": [
       "<Figure size 432x288 with 1 Axes>"
      ]
     },
     "metadata": {},
     "output_type": "display_data"
    }
   ],
   "source": [
    "plt.boxplot(indegree_dist)\n",
    "plt.ylabel('No Of people each person is following')\n",
    "plt.show()"
   ]
  },
  {
   "cell_type": "code",
   "execution_count": 15,
   "metadata": {
    "execution": {
     "iopub.execute_input": "2021-05-06T09:40:18.937608Z",
     "iopub.status.busy": "2021-05-06T09:40:18.936817Z",
     "iopub.status.idle": "2021-05-06T09:40:18.940235Z",
     "shell.execute_reply": "2021-05-06T09:40:18.940715Z"
    },
    "papermill": {
     "duration": 0.088366,
     "end_time": "2021-05-06T09:40:18.940836",
     "exception": false,
     "start_time": "2021-05-06T09:40:18.852470",
     "status": "completed"
    },
    "tags": []
   },
   "outputs": [
    {
     "name": "stdout",
     "output_type": "stream",
     "text": [
      "90 percentile value is 5.0\n",
      "91 percentile value is 5.0\n",
      "92 percentile value is 6.0\n",
      "93 percentile value is 7.0\n",
      "94 percentile value is 8.0\n",
      "95 percentile value is 9.0\n",
      "96 percentile value is 11.0\n",
      "97 percentile value is 13.0\n",
      "98 percentile value is 17.0\n",
      "99 percentile value is 24.0\n",
      "100 percentile value is 895.0\n"
     ]
    }
   ],
   "source": [
    "### 90-100 percentile\n",
    "for i in range(0,11):\n",
    "    print(90+i,'percentile value is',np.percentile(outdegree_dist,90+i))"
   ]
  },
  {
   "cell_type": "code",
   "execution_count": 16,
   "metadata": {
    "execution": {
     "iopub.execute_input": "2021-05-06T09:40:19.101367Z",
     "iopub.status.busy": "2021-05-06T09:40:19.100582Z",
     "iopub.status.idle": "2021-05-06T09:40:19.104486Z",
     "shell.execute_reply": "2021-05-06T09:40:19.104064Z"
    },
    "papermill": {
     "duration": 0.090027,
     "end_time": "2021-05-06T09:40:19.104597",
     "exception": false,
     "start_time": "2021-05-06T09:40:19.014570",
     "status": "completed"
    },
    "tags": []
   },
   "outputs": [
    {
     "name": "stdout",
     "output_type": "stream",
     "text": [
      "99.1 percentile value is 26.0\n",
      "99.2 percentile value is 27.0\n",
      "99.3 percentile value is 29.0\n",
      "99.4 percentile value is 31.0\n",
      "99.5 percentile value is 33.0\n",
      "99.6 percentile value is 37.0\n",
      "99.7 percentile value is 43.0\n",
      "99.8 percentile value is 52.0\n",
      "99.9 percentile value is 74.0\n",
      "100.0 percentile value is 895.0\n"
     ]
    }
   ],
   "source": [
    "### 99-100 percentile\n",
    "for i in range(10,110,10):\n",
    "    print(99+(i/100),'percentile value is',np.percentile(outdegree_dist,99+(i/100)))"
   ]
  },
  {
   "cell_type": "markdown",
   "metadata": {},
   "source": [
    "Again, only a low percentage follow a lot of people."
   ]
  },
  {
   "cell_type": "code",
   "execution_count": 17,
   "metadata": {
    "execution": {
     "iopub.execute_input": "2021-05-06T09:40:19.268157Z",
     "iopub.status.busy": "2021-05-06T09:40:19.267372Z",
     "iopub.status.idle": "2021-05-06T09:40:19.376655Z",
     "shell.execute_reply": "2021-05-06T09:40:19.376223Z"
    },
    "papermill": {
     "duration": 0.197848,
     "end_time": "2021-05-06T09:40:19.376776",
     "exception": false,
     "start_time": "2021-05-06T09:40:19.178928",
     "status": "completed"
    },
    "tags": []
   },
   "outputs": [
    {
     "data": {
      "image/png": "[encoded data removed]",
      "text/plain": [
       "<Figure size 842.4x595.44 with 1 Axes>"
      ]
     },
     "metadata": {},
     "output_type": "display_data"
    }
   ],
   "source": [
    "sns.set_style('ticks')\n",
    "fig, ax = plt.subplots()\n",
    "fig.set_size_inches(11.7, 8.27)\n",
    "sns.distplot(outdegree_dist, color='#16A085')\n",
    "plt.xlabel('PDF of Outdegree')\n",
    "sns.despine()\n"
   ]
  },
  {
   "cell_type": "markdown",
   "metadata": {},
   "source": [
    "Some other statistics:"
   ]
  },
  {
   "cell_type": "code",
   "execution_count": 18,
   "metadata": {
    "execution": {
     "iopub.execute_input": "2021-05-06T09:40:19.544423Z",
     "iopub.status.busy": "2021-05-06T09:40:19.543601Z",
     "iopub.status.idle": "2021-05-06T09:40:19.546941Z",
     "shell.execute_reply": "2021-05-06T09:40:19.547329Z"
    },
    "papermill": {
     "duration": 0.093107,
     "end_time": "2021-05-06T09:40:19.547470",
     "exception": false,
     "start_time": "2021-05-06T09:40:19.454363",
     "status": "completed"
    },
    "tags": []
   },
   "outputs": [
    {
     "name": "stdout",
     "output_type": "stream",
     "text": [
      "No of persons those are not following anyone are 631310 and % is 71.53370687848074\n"
     ]
    }
   ],
   "source": [
    "print('No of persons those are not following anyone are' ,sum(np.array(outdegree_dist)==0),'and % is',\n",
    "                                sum(np.array(outdegree_dist)==0)*100/len(outdegree_dist) )"
   ]
  },
  {
   "cell_type": "code",
   "execution_count": 19,
   "metadata": {
    "execution": {
     "iopub.execute_input": "2021-05-06T09:40:19.714818Z",
     "iopub.status.busy": "2021-05-06T09:40:19.714079Z",
     "iopub.status.idle": "2021-05-06T09:40:19.717933Z",
     "shell.execute_reply": "2021-05-06T09:40:19.717488Z"
    },
    "papermill": {
     "duration": 0.094987,
     "end_time": "2021-05-06T09:40:19.718061",
     "exception": false,
     "start_time": "2021-05-06T09:40:19.623074",
     "status": "completed"
    },
    "tags": []
   },
   "outputs": [
    {
     "name": "stdout",
     "output_type": "stream",
     "text": [
      "No of persons having zero followers are 145806 and % is 16.521271111060752\n"
     ]
    }
   ],
   "source": [
    "print('No of persons having zero followers are' ,sum(np.array(indegree_dist)==0),'and % is',\n",
    "                                sum(np.array(indegree_dist)==0)*100/len(indegree_dist) )"
   ]
  },
  {
   "cell_type": "code",
   "execution_count": 20,
   "metadata": {
    "execution": {
     "iopub.execute_input": "2021-05-06T09:40:19.883389Z",
     "iopub.status.busy": "2021-05-06T09:40:19.882498Z",
     "iopub.status.idle": "2021-05-06T09:40:19.886580Z",
     "shell.execute_reply": "2021-05-06T09:40:19.886127Z"
    },
    "papermill": {
     "duration": 0.09241,
     "end_time": "2021-05-06T09:40:19.886693",
     "exception": false,
     "start_time": "2021-05-06T09:40:19.794283",
     "status": "completed"
    },
    "tags": []
   },
   "outputs": [
    {
     "name": "stdout",
     "output_type": "stream",
     "text": [
      "No of persons those are not not following anyone and also not having any followers are 0\n"
     ]
    }
   ],
   "source": [
    "count=0\n",
    "for i in g.nodes():\n",
    "    if len(list(g.predecessors(i)))==0 :\n",
    "        if len(list(g.successors(i)))==0:\n",
    "            count+=1\n",
    "print('No of persons those are not not following anyone and also not having any followers are',count)"
   ]
  },
  {
   "cell_type": "markdown",
   "metadata": {
    "papermill": {
     "duration": 0.077082,
     "end_time": "2021-05-06T09:40:20.041551",
     "exception": false,
     "start_time": "2021-05-06T09:40:19.964469",
     "status": "completed"
    },
    "tags": []
   },
   "source": [
    "## 1.3 both followers + following\n",
    "Finally, statistics of 1.1 and 1.2 can be combined."
   ]
  },
  {
   "cell_type": "code",
   "execution_count": 21,
   "metadata": {
    "execution": {
     "iopub.execute_input": "2021-05-06T09:40:20.209200Z",
     "iopub.status.busy": "2021-05-06T09:40:20.208324Z",
     "iopub.status.idle": "2021-05-06T09:40:20.212003Z",
     "shell.execute_reply": "2021-05-06T09:40:20.212432Z"
    },
    "papermill": {
     "duration": 0.093917,
     "end_time": "2021-05-06T09:40:20.212567",
     "exception": false,
     "start_time": "2021-05-06T09:40:20.118650",
     "status": "completed"
    },
    "tags": []
   },
   "outputs": [],
   "source": [
    "from collections import Counter\n",
    "dict_in = dict(g.in_degree())\n",
    "dict_out = dict(g.out_degree())\n",
    "d = Counter(dict_in) + Counter(dict_out)\n",
    "in_out_degree = np.array(list(d.values()))"
   ]
  },
  {
   "cell_type": "code",
   "execution_count": 22,
   "metadata": {
    "execution": {
     "iopub.execute_input": "2021-05-06T09:40:20.378876Z",
     "iopub.status.busy": "2021-05-06T09:40:20.377009Z",
     "iopub.status.idle": "2021-05-06T09:40:20.382629Z",
     "shell.execute_reply": "2021-05-06T09:40:20.382212Z"
    },
    "papermill": {
     "duration": 0.09263,
     "end_time": "2021-05-06T09:40:20.382740",
     "exception": false,
     "start_time": "2021-05-06T09:40:20.290110",
     "status": "completed"
    },
    "tags": []
   },
   "outputs": [
    {
     "data": {
      "image/png": "[encoded data removed]",
      "text/plain": [
       "<Figure size 720x432 with 1 Axes>"
      ]
     },
     "metadata": {},
     "output_type": "display_data"
    }
   ],
   "source": [
    "in_out_degree_sort = sorted(in_out_degree)\n",
    "plt.figure(figsize=(10,6))\n",
    "plt.plot(in_out_degree_sort)\n",
    "plt.xlabel('Index No')\n",
    "plt.ylabel('No Of people each person is following + followers')\n",
    "plt.show()\n"
   ]
  },
  {
   "cell_type": "code",
   "execution_count": 23,
   "metadata": {
    "execution": {
     "iopub.execute_input": "2021-05-06T09:40:20.560793Z",
     "iopub.status.busy": "2021-05-06T09:40:20.559922Z",
     "iopub.status.idle": "2021-05-06T09:40:20.563905Z",
     "shell.execute_reply": "2021-05-06T09:40:20.563477Z"
    },
    "papermill": {
     "duration": 0.103573,
     "end_time": "2021-05-06T09:40:20.564013",
     "exception": false,
     "start_time": "2021-05-06T09:40:20.460440",
     "status": "completed"
    },
    "tags": []
   },
   "outputs": [
    {
     "data": {
      "image/png": "[encoded data removed]",
      "text/plain": [
       "<Figure size 720x432 with 1 Axes>"
      ]
     },
     "metadata": {},
     "output_type": "display_data"
    }
   ],
   "source": [
    "in_out_degree_sort = sorted(in_out_degree)\n",
    "plt.figure(figsize=(10,6))\n",
    "plt.plot(in_out_degree_sort[0:1500000])\n",
    "plt.xlabel('Index No')\n",
    "plt.ylabel('No Of people each person is following + followers')\n",
    "plt.show()\n"
   ]
  },
  {
   "cell_type": "code",
   "execution_count": 24,
   "metadata": {
    "execution": {
     "iopub.execute_input": "2021-05-06T09:40:20.729537Z",
     "iopub.status.busy": "2021-05-06T09:40:20.728743Z",
     "iopub.status.idle": "2021-05-06T09:40:20.737512Z",
     "shell.execute_reply": "2021-05-06T09:40:20.737988Z"
    },
    "papermill": {
     "duration": 0.095865,
     "end_time": "2021-05-06T09:40:20.738133",
     "exception": false,
     "start_time": "2021-05-06T09:40:20.642268",
     "status": "completed"
    },
    "tags": []
   },
   "outputs": [
    {
     "name": "stdout",
     "output_type": "stream",
     "text": [
      "90 percentile value is 7.0\n",
      "91 percentile value is 8.0\n",
      "92 percentile value is 8.0\n",
      "93 percentile value is 9.0\n",
      "94 percentile value is 10.0\n",
      "95 percentile value is 12.0\n",
      "96 percentile value is 14.0\n",
      "97 percentile value is 16.0\n",
      "98 percentile value is 20.0\n",
      "99 percentile value is 29.0\n",
      "100 percentile value is 897.0\n"
     ]
    }
   ],
   "source": [
    "### 90-100 percentile\n",
    "for i in range(0,11):\n",
    "    print(90+i,'percentile value is',np.percentile(in_out_degree_sort,90+i))"
   ]
  },
  {
   "cell_type": "code",
   "execution_count": 25,
   "metadata": {
    "execution": {
     "iopub.execute_input": "2021-05-06T09:40:20.909849Z",
     "iopub.status.busy": "2021-05-06T09:40:20.900608Z",
     "iopub.status.idle": "2021-05-06T09:40:20.913701Z",
     "shell.execute_reply": "2021-05-06T09:40:20.913282Z"
    },
    "papermill": {
     "duration": 0.094879,
     "end_time": "2021-05-06T09:40:20.913814",
     "exception": false,
     "start_time": "2021-05-06T09:40:20.818935",
     "status": "completed"
    },
    "tags": []
   },
   "outputs": [
    {
     "name": "stdout",
     "output_type": "stream",
     "text": [
      "99.1 percentile value is 30.0\n",
      "99.2 percentile value is 32.0\n",
      "99.3 percentile value is 34.0\n",
      "99.4 percentile value is 36.0\n",
      "99.5 percentile value is 39.0\n",
      "99.6 percentile value is 43.0\n",
      "99.7 percentile value is 50.0\n",
      "99.8 percentile value is 60.0\n",
      "99.9 percentile value is 84.0\n",
      "100.0 percentile value is 897.0\n"
     ]
    }
   ],
   "source": [
    "### 99-100 percentile\n",
    "for i in range(10,110,10):\n",
    "    print(99+(i/100),'percentile value is',np.percentile(in_out_degree_sort,99+(i/100)))"
   ]
  },
  {
   "cell_type": "code",
   "execution_count": 26,
   "metadata": {
    "execution": {
     "iopub.execute_input": "2021-05-06T09:40:21.084024Z",
     "iopub.status.busy": "2021-05-06T09:40:21.083205Z",
     "iopub.status.idle": "2021-05-06T09:40:21.086715Z",
     "shell.execute_reply": "2021-05-06T09:40:21.087145Z"
    },
    "papermill": {
     "duration": 0.094906,
     "end_time": "2021-05-06T09:40:21.087288",
     "exception": false,
     "start_time": "2021-05-06T09:40:20.992382",
     "status": "completed"
    },
    "tags": []
   },
   "outputs": [
    {
     "name": "stdout",
     "output_type": "stream",
     "text": [
      "Min of no of followers + following is 1\n",
      "436599  persons having minimum no of followers + following\n"
     ]
    }
   ],
   "source": [
    "print('Min of no of followers + following is',in_out_degree.min())\n",
    "print(np.sum(in_out_degree==in_out_degree.min()),' persons having minimum no of followers + following')"
   ]
  },
  {
   "cell_type": "code",
   "execution_count": 27,
   "metadata": {
    "execution": {
     "iopub.execute_input": "2021-05-06T09:40:21.256995Z",
     "iopub.status.busy": "2021-05-06T09:40:21.255286Z",
     "iopub.status.idle": "2021-05-06T09:40:21.260640Z",
     "shell.execute_reply": "2021-05-06T09:40:21.260108Z"
    },
    "papermill": {
     "duration": 0.094037,
     "end_time": "2021-05-06T09:40:21.260749",
     "exception": false,
     "start_time": "2021-05-06T09:40:21.166712",
     "status": "completed"
    },
    "tags": []
   },
   "outputs": [
    {
     "name": "stdout",
     "output_type": "stream",
     "text": [
      "Max of no of followers + following is 897\n",
      "1  persons having maximum no of followers + following\n"
     ]
    }
   ],
   "source": [
    "print('Max of no of followers + following is',in_out_degree.max())\n",
    "print(np.sum(in_out_degree==in_out_degree.max()),' persons having maximum no of followers + following')"
   ]
  },
  {
   "cell_type": "code",
   "execution_count": 28,
   "metadata": {
    "execution": {
     "iopub.execute_input": "2021-05-06T09:40:21.430209Z",
     "iopub.status.busy": "2021-05-06T09:40:21.429398Z",
     "iopub.status.idle": "2021-05-06T09:40:21.433198Z",
     "shell.execute_reply": "2021-05-06T09:40:21.432792Z"
    },
    "papermill": {
     "duration": 0.09341,
     "end_time": "2021-05-06T09:40:21.433323",
     "exception": false,
     "start_time": "2021-05-06T09:40:21.339913",
     "status": "completed"
    },
    "tags": []
   },
   "outputs": [
    {
     "name": "stdout",
     "output_type": "stream",
     "text": [
      "No of persons having followers + following less than 10 are 823794\n"
     ]
    }
   ],
   "source": [
    "print('No of persons having followers + following less than 10 are',np.sum(in_out_degree<10))"
   ]
  },
  {
   "cell_type": "code",
   "execution_count": 29,
   "metadata": {
    "execution": {
     "iopub.execute_input": "2021-05-06T09:40:21.644540Z",
     "iopub.status.busy": "2021-05-06T09:40:21.643639Z",
     "iopub.status.idle": "2021-05-06T09:40:21.647173Z",
     "shell.execute_reply": "2021-05-06T09:40:21.647641Z"
    },
    "papermill": {
     "duration": 0.134356,
     "end_time": "2021-05-06T09:40:21.647770",
     "exception": false,
     "start_time": "2021-05-06T09:40:21.513414",
     "status": "completed"
    },
    "tags": []
   },
   "outputs": [
    {
     "name": "stdout",
     "output_type": "stream",
     "text": [
      "No of weakly connected components 46916\n",
      "weakly connected components wit 2 nodes 29632\n"
     ]
    }
   ],
   "source": [
    "print('No of weakly connected components',len(list(nx.weakly_connected_components(g))))\n",
    "count=0\n",
    "for i in list(nx.weakly_connected_components(g)):\n",
    "    if len(i)==2:\n",
    "        count+=1\n",
    "print('weakly connected components wit 2 nodes',count)"
   ]
  },
  {
   "cell_type": "markdown",
   "metadata": {
    "papermill": {
     "duration": 0.079892,
     "end_time": "2021-05-06T09:40:21.807696",
     "exception": false,
     "start_time": "2021-05-06T09:40:21.727804",
     "status": "completed"
    },
    "tags": []
   },
   "source": [
    "## 1.4 Posing a problem as classification problem \n",
    "Now that the data has been explored, the real work can begin. Firstly, the problem needs to be defined as a classification task. We need to create a training set of nodes that are linked and unlinked and generate features for all nodes that are used to train the classifier."
   ]
  },
  {
   "cell_type": "markdown",
   "metadata": {
    "papermill": {
     "duration": 0.082189,
     "end_time": "2021-05-06T09:40:21.970580",
     "exception": false,
     "start_time": "2021-05-06T09:40:21.888391",
     "status": "completed"
    },
    "tags": []
   },
   "source": [
    "### 1.4.1 Generating some edges which are not present in graph for supervised learning  \n",
    "Generated Bad links from graph which are not in graph and whose shortest path is greater than 2. So eventually, we will create a training set that consists of node pairs that are connected in the real graph and node pairs that are not connected. Following code generates a set of node pairs classified as unlinked (it is assumed that two randomly chosen nodes are unconnected)."
   ]
  },
  {
   "cell_type": "code",
   "execution_count": 30,
   "metadata": {
    "execution": {
     "iopub.execute_input": "2021-05-06T09:41:14.046790Z",
     "iopub.status.busy": "2021-05-06T09:41:14.046081Z",
     "iopub.status.idle": "2021-05-06T09:41:14.049108Z",
     "shell.execute_reply": "2021-05-06T09:41:14.049566Z"
    },
    "papermill": {
     "duration": 0.08871,
     "end_time": "2021-05-06T09:41:14.049694",
     "exception": false,
     "start_time": "2021-05-06T09:41:13.960984",
     "status": "completed"
    },
    "tags": []
   },
   "outputs": [
    {
     "data": {
      "text/plain": [
       "1500000"
      ]
     },
     "execution_count": 30,
     "metadata": {},
     "output_type": "execute_result"
    }
   ],
   "source": [
    "import random\n",
    "r = csv.reader(open('./train_small.csv','r'))\n",
    "edges = dict()\n",
    "for edge in r:\n",
    "    edges[(edge[0], edge[1])] = 1\n",
    "\n",
    "\n",
    "missing_edges = set([])\n",
    "while (len(missing_edges)<1500000):\n",
    "    a=random.randint(1, 1500000)\n",
    "    b=random.randint(1, 1500000)\n",
    "    tmp = edges.get((a,b),-1)\n",
    "    if tmp == -1 and a!=b:\n",
    "        try:\n",
    "            if nx.shortest_path_length(g,source=a,target=b) > 2: \n",
    "\n",
    "                missing_edges.add((a,b))\n",
    "            else:\n",
    "                continue  \n",
    "        except:  \n",
    "                missing_edges.add((a,b))     \n",
    "                \n",
    "len(missing_edges)"
   ]
  },
  {
   "cell_type": "code",
   "execution_count": 31,
   "metadata": {},
   "outputs": [
    {
     "data": {
      "text/plain": [
       "[(1038129, 61884),\n",
       " (101256, 965580),\n",
       " (1154935, 492051),\n",
       " (1272271, 374296),\n",
       " (1312195, 1249204),\n",
       " (416729, 23427),\n",
       " (182342, 1480409),\n",
       " (368178, 923913),\n",
       " (1132925, 1388988),\n",
       " (1230203, 864983)]"
      ]
     },
     "execution_count": 31,
     "metadata": {},
     "output_type": "execute_result"
    }
   ],
   "source": [
    "list(missing_edges)[:10]"
   ]
  },
  {
   "cell_type": "markdown",
   "metadata": {},
   "source": [
    "So e.g. the nodes 1135773 and 1280100 should be classified as unlinked."
   ]
  },
  {
   "cell_type": "markdown",
   "metadata": {
    "papermill": {
     "duration": 0.08087,
     "end_time": "2021-05-06T09:41:14.210727",
     "exception": false,
     "start_time": "2021-05-06T09:41:14.129857",
     "status": "completed"
    },
    "tags": []
   },
   "source": [
    "### 1.4.2 Training and Test data split:  \n",
    "Removed edges from Graph and used as test data and after removing them, we used that graph for creating features for train and test data set."
   ]
  },
  {
   "cell_type": "code",
   "execution_count": 32,
   "metadata": {
    "execution": {
     "iopub.execute_input": "2021-05-06T09:41:14.383232Z",
     "iopub.status.busy": "2021-05-06T09:41:14.382491Z",
     "iopub.status.idle": "2021-05-06T09:41:30.106785Z",
     "shell.execute_reply": "2021-05-06T09:41:30.108003Z"
    },
    "papermill": {
     "duration": 15.8167,
     "end_time": "2021-05-06T09:41:30.108230",
     "exception": false,
     "start_time": "2021-05-06T09:41:14.291530",
     "status": "completed"
    },
    "tags": []
   },
   "outputs": [
    {
     "name": "stdout",
     "output_type": "stream",
     "text": [
      "Number of nodes in the graph with edges 1499999\n",
      "Number of nodes in the graph without edges 1500000\n",
      "============================================================\n",
      "Number of nodes in the train data graph with edges 1199999 = 1199999\n",
      "Number of nodes in the train data graph without edges 1200000 = 1200000\n",
      "============================================================\n",
      "Number of nodes in the test data graph with edges 300000 = 300000\n",
      "Number of nodes in the test data graph without edges 300000 = 300000\n"
     ]
    }
   ],
   "source": [
    "from sklearn.model_selection import train_test_split\n",
    "\n",
    "df_pos = pd.read_csv('./train_small.csv')\n",
    "df_neg = pd.DataFrame(list(missing_edges), columns=['source_node', 'destination_node'])\n",
    "\n",
    "print(\"Number of nodes in the graph with edges\", df_pos.shape[0])\n",
    "print(\"Number of nodes in the graph without edges\", df_neg.shape[0])\n",
    "    \n",
    "#Trian test split \n",
    "#Spiltted data into 80-20 \n",
    "#positive links and negative links seperatly because we need positive training data only for creating graph \n",
    "#and for feature generation\n",
    "X_train_pos, X_test_pos, y_train_pos, y_test_pos  = train_test_split(df_pos,np.ones(len(df_pos)),test_size=0.2, random_state=9)\n",
    "X_train_neg, X_test_neg, y_train_neg, y_test_neg  = train_test_split(df_neg,np.zeros(len(df_neg)),test_size=0.2, random_state=9)\n",
    "\n",
    "print('='*60)\n",
    "print(\"Number of nodes in the train data graph with edges\", X_train_pos.shape[0],\"=\",y_train_pos.shape[0])\n",
    "print(\"Number of nodes in the train data graph without edges\", X_train_neg.shape[0],\"=\", y_train_neg.shape[0])\n",
    "print('='*60)\n",
    "print(\"Number of nodes in the test data graph with edges\", X_test_pos.shape[0],\"=\",y_test_pos.shape[0])\n",
    "print(\"Number of nodes in the test data graph without edges\", X_test_neg.shape[0],\"=\",y_test_neg.shape[0])\n",
    "\n",
    "#removing header and saving\n",
    "X_train_pos.to_csv('data/after_eda/train_pos_after_eda.csv',header=False, index=False)\n",
    "X_test_pos.to_csv('data/after_eda/test_pos_after_eda.csv',header=False, index=False)\n",
    "X_train_neg.to_csv('data/after_eda/train_neg_after_eda.csv',header=False, index=False)\n",
    "X_test_neg.to_csv('data/after_eda/test_neg_after_eda.csv',header=False, index=False)\n",
    "\n",
    "del missing_edges"
   ]
  },
  {
   "cell_type": "code",
   "execution_count": 33,
   "metadata": {
    "execution": {
     "iopub.execute_input": "2021-05-06T09:41:30.404931Z",
     "iopub.status.busy": "2021-05-06T09:41:30.403644Z",
     "iopub.status.idle": "2021-05-06T09:41:30.405968Z",
     "shell.execute_reply": "2021-05-06T09:41:30.406420Z"
    },
    "papermill": {
     "duration": 0.17086,
     "end_time": "2021-05-06T09:41:30.406553",
     "exception": false,
     "start_time": "2021-05-06T09:41:30.235693",
     "status": "completed"
    },
    "tags": []
   },
   "outputs": [
    {
     "name": "stdout",
     "output_type": "stream",
     "text": [
      "Name: \n",
      "Type: DiGraph\n",
      "Number of nodes: 787357\n",
      "Number of edges: 1199999\n",
      "Average in degree:   1.5241\n",
      "Average out degree:   1.5241\n",
      "Name: \n",
      "Type: DiGraph\n",
      "Number of nodes: 339886\n",
      "Number of edges: 300000\n",
      "Average in degree:   0.8826\n",
      "Average out degree:   0.8826\n",
      "no of people common in train and test --  244708\n",
      "no of people present in train but not present in test --  542649\n",
      "no of people present in test but not present in train --  95178\n",
      " % of people not there in Train but exist in Test in total Test data are 28.002918625656836 %\n"
     ]
    }
   ],
   "source": [
    "if (os.path.isfile('data/after_eda/train_pos_after_eda.csv')) and (os.path.isfile('data/after_eda/test_pos_after_eda.csv')):        \n",
    "    train_graph=nx.read_edgelist('data/after_eda/train_pos_after_eda.csv',delimiter=',',create_using=nx.DiGraph(),nodetype=int)\n",
    "    test_graph=nx.read_edgelist('data/after_eda/test_pos_after_eda.csv',delimiter=',',create_using=nx.DiGraph(),nodetype=int)\n",
    "    print(nx.info(train_graph))\n",
    "    print(nx.info(test_graph))\n",
    "\n",
    "    # finding the unique nodes in the both train and test graphs\n",
    "    train_nodes_pos = set(train_graph.nodes())\n",
    "    test_nodes_pos = set(test_graph.nodes())\n",
    "\n",
    "    trY_teY = len(train_nodes_pos.intersection(test_nodes_pos))\n",
    "    trY_teN = len(train_nodes_pos - test_nodes_pos)\n",
    "    teY_trN = len(test_nodes_pos - train_nodes_pos)\n",
    "\n",
    "    print('no of people common in train and test -- ',trY_teY)\n",
    "    print('no of people present in train but not present in test -- ',trY_teN)\n",
    "\n",
    "    print('no of people present in test but not present in train -- ',teY_trN)\n",
    "    print(' % of people not there in Train but exist in Test in total Test data are {} %'.format(teY_trN/len(test_nodes_pos)*100))"
   ]
  },
  {
   "cell_type": "markdown",
   "metadata": {},
   "source": [
    "Next code stores the final data sets if not already stored."
   ]
  },
  {
   "cell_type": "code",
   "execution_count": 71,
   "metadata": {
    "execution": {
     "iopub.execute_input": "2021-05-06T09:41:30.669534Z",
     "iopub.status.busy": "2021-05-06T09:41:30.668810Z",
     "iopub.status.idle": "2021-05-06T09:41:30.674628Z",
     "shell.execute_reply": "2021-05-06T09:41:30.675524Z"
    },
    "papermill": {
     "duration": 0.151718,
     "end_time": "2021-05-06T09:41:30.675695",
     "exception": false,
     "start_time": "2021-05-06T09:41:30.523977",
     "status": "completed"
    },
    "tags": []
   },
   "outputs": [
    {
     "name": "stdout",
     "output_type": "stream",
     "text": [
      "============================================================\n",
      "Number of nodes in the train data graph with edges 1199999\n",
      "Number of nodes in the train data graph without edges 1200000\n",
      "============================================================\n",
      "Number of nodes in the test data graph with edges 300000\n",
      "Number of nodes in the test data graph without edges 300000\n"
     ]
    }
   ],
   "source": [
    "#final train and test data sets\n",
    "if (not os.path.isfile('data/after_eda/train_after_eda.csv')) and \\\n",
    "(not os.path.isfile('data/after_eda/test_after_eda.csv')) and \\\n",
    "(not os.path.isfile('data/train_y.csv')) and \\\n",
    "(not os.path.isfile('data/test_y.csv')) and \\\n",
    "(os.path.isfile('data/after_eda/train_pos_after_eda.csv')) and \\\n",
    "(os.path.isfile('data/after_eda/test_pos_after_eda.csv')) and \\\n",
    "(os.path.isfile('data/after_eda/train_neg_after_eda.csv')) and \\\n",
    "(os.path.isfile('data/after_eda/test_neg_after_eda.csv')):\n",
    "    \n",
    "    X_train_pos = pd.read_csv('data/after_eda/train_pos_after_eda.csv', names=['source_node', 'destination_node'])\n",
    "    X_test_pos = pd.read_csv('data/after_eda/test_pos_after_eda.csv', names=['source_node', 'destination_node'])\n",
    "    X_train_neg = pd.read_csv('data/after_eda/train_neg_after_eda.csv', names=['source_node', 'destination_node'])\n",
    "    X_test_neg = pd.read_csv('data/after_eda/test_neg_after_eda.csv', names=['source_node', 'destination_node'])\n",
    "\n",
    "    print('='*60)\n",
    "    print(\"Number of nodes in the train data graph with edges\", X_train_pos.shape[0])\n",
    "    print(\"Number of nodes in the train data graph without edges\", X_train_neg.shape[0])\n",
    "    print('='*60)\n",
    "    print(\"Number of nodes in the test data graph with edges\", X_test_pos.shape[0])\n",
    "    print(\"Number of nodes in the test data graph without edges\", X_test_neg.shape[0])\n",
    "\n",
    "    X_train = X_train_pos.append(X_train_neg,ignore_index=True)\n",
    "    y_train = np.concatenate((y_train_pos,y_train_neg))\n",
    "    X_test = X_test_pos.append(X_test_neg,ignore_index=True)\n",
    "    y_test = np.concatenate((y_test_pos,y_test_neg)) \n",
    "    \n",
    "    X_train.to_csv('data/after_eda/train_after_eda.csv',header=False,index=False)\n",
    "    X_test.to_csv('data/after_eda/test_after_eda.csv',header=False,index=False)\n",
    "    pd.DataFrame(y_train.astype(int)).to_csv('data/train_y.csv',header=False,index=False)\n",
    "    pd.DataFrame(y_test.astype(int)).to_csv('data/test_y.csv',header=False,index=False)\n",
    "else:\n",
    "    X_train_pos = pd.read_csv('data/after_eda/train_pos_after_eda.csv', names=['source_node', 'destination_node'])\n",
    "    X_test_pos = pd.read_csv('data/after_eda/test_pos_after_eda.csv', names=['source_node', 'destination_node'])\n",
    "    X_train_neg = pd.read_csv('data/after_eda/train_neg_after_eda.csv', names=['source_node', 'destination_node'])\n",
    "    X_test_neg = pd.read_csv('data/after_eda/test_neg_after_eda.csv', names=['source_node', 'destination_node'])\n",
    "\n",
    "    print('='*60)\n",
    "    print(\"Number of nodes in the train data graph with edges\", X_train_pos.shape[0])\n",
    "    print(\"Number of nodes in the train data graph without edges\", X_train_neg.shape[0])\n",
    "    print('='*60)\n",
    "    print(\"Number of nodes in the test data graph with edges\", X_test_pos.shape[0])\n",
    "    print(\"Number of nodes in the test data graph without edges\", X_test_neg.shape[0])\n",
    "\n",
    "    X_train = X_train_pos.append(X_train_neg,ignore_index=True)\n",
    "    y_train = np.concatenate((y_train_pos,y_train_neg))\n",
    "    X_test = X_test_pos.append(X_test_neg,ignore_index=True)\n",
    "    y_test = np.concatenate((y_test_pos,y_test_neg)) \n",
    "    "
   ]
  },
  {
   "cell_type": "markdown",
   "metadata": {
    "id": "1znHayNeVFFt",
    "papermill": {
     "duration": 0.081394,
     "end_time": "2021-05-06T09:41:30.869782",
     "exception": false,
     "start_time": "2021-05-06T09:41:30.788388",
     "status": "completed"
    },
    "tags": []
   },
   "source": [
    "# Generating features\n",
    "At the moment we have a training set of node pairs that should be classified as linked, node pairs that should be classified as unlinked and a graph where we have removed the edges between nodes that are in the test set. Now we need to create features for all nodes that can be passed to a classifier. These features need to take into account the graph topology based on which we can predict if people should be linked. "
   ]
  },
  {
   "cell_type": "markdown",
   "metadata": {
    "id": "HmlUa64tVFF7",
    "papermill": {
     "duration": 0.08901,
     "end_time": "2021-05-06T09:41:31.223998",
     "exception": false,
     "start_time": "2021-05-06T09:41:31.134988",
     "status": "completed"
    },
    "tags": []
   },
   "source": [
    "# 2. Similarity measures\n",
    "A similarity measure can be defined as a real-valued function that quantifies the similarity between two objects. In this section, we will be exploring different similarity methods commonly used in graph analysis and we will be applying them in our dataset. These similarity measures will afterwards be used to create features for the nodes in a following section."
   ]
  },
  {
   "cell_type": "code",
   "execution_count": 35,
   "metadata": {},
   "outputs": [
    {
     "name": "stdout",
     "output_type": "stream",
     "text": [
      "Name: \n",
      "Type: DiGraph\n",
      "Number of nodes: 882535\n",
      "Number of edges: 1500000\n",
      "Average in degree:   1.6996\n",
      "Average out degree:   1.6996\n"
     ]
    }
   ],
   "source": [
    "# From now on we will work with the variable train_graph instead of g.\n",
    "train_graph=g\n",
    "print(nx.info(train_graph))"
   ]
  },
  {
   "cell_type": "markdown",
   "metadata": {},
   "source": [
    "## 2.1 Distance measures"
   ]
  },
  {
   "cell_type": "markdown",
   "metadata": {
    "id": "ivVMUMiWVFF9",
    "papermill": {
     "duration": 0.081562,
     "end_time": "2021-05-06T09:41:31.387763",
     "exception": false,
     "start_time": "2021-05-06T09:41:31.306201",
     "status": "completed"
    },
    "tags": []
   },
   "source": [
    "## 2.1.1 Jaccard Distance:\n",
    "The Jaccard similarity index (sometimes called the Jaccard similarity coefficient) compares members for two sets to see which members are shared and which are distinct. It’s a measure of similarity for the two sets of data, with a range from 0% to 100%. The higher the percentage, the more similar the two populations. So in our setting it is a way of expressing the similarity between two nodes. For more info: http://www.statisticshowto.com/jaccard-index/"
   ]
  },
  {
   "cell_type": "markdown",
   "metadata": {
    "id": "NoWCYuRBVFF_",
    "papermill": {
     "duration": 0.081748,
     "end_time": "2021-05-06T09:41:31.551497",
     "exception": false,
     "start_time": "2021-05-06T09:41:31.469749",
     "status": "completed"
    },
    "tags": []
   },
   "source": [
    "\\begin{equation}\n",
    "j = \\frac{|X\\cap Y|}{|X \\cup Y|} \n",
    "\\end{equation}"
   ]
  },
  {
   "cell_type": "code",
   "execution_count": 36,
   "metadata": {
    "execution": {
     "iopub.execute_input": "2021-05-06T09:41:31.727882Z",
     "iopub.status.busy": "2021-05-06T09:41:31.726945Z",
     "iopub.status.idle": "2021-05-06T09:41:31.729306Z",
     "shell.execute_reply": "2021-05-06T09:41:31.729838Z"
    },
    "id": "Seo4z5SnVFGB",
    "papermill": {
     "duration": 0.095416,
     "end_time": "2021-05-06T09:41:31.729997",
     "exception": false,
     "start_time": "2021-05-06T09:41:31.634581",
     "status": "completed"
    },
    "tags": []
   },
   "outputs": [],
   "source": [
    "#for followees\n",
    "def jaccard_for_followees(a,b):\n",
    "    try:\n",
    "        if len(set(train_graph.successors(a))) == 0  | len(set(train_graph.successors(b))) == 0:\n",
    "            return 0\n",
    "        sim = (len(set(train_graph.successors(a)).intersection(set(train_graph.successors(b)))))/\\\n",
    "                                    (len(set(train_graph.successors(a)).union(set(train_graph.successors(b)))))\n",
    "    except:\n",
    "        return 0\n",
    "    return sim"
   ]
  },
  {
   "cell_type": "code",
   "execution_count": 37,
   "metadata": {
    "execution": {
     "iopub.execute_input": "2021-05-06T09:41:31.909812Z",
     "iopub.status.busy": "2021-05-06T09:41:31.909189Z",
     "iopub.status.idle": "2021-05-06T09:41:31.911725Z",
     "shell.execute_reply": "2021-05-06T09:41:31.912207Z"
    },
    "id": "Oa9FMlS8VFGF",
    "outputId": "426a6833-1631-4024-c24a-d21ae7686472",
    "papermill": {
     "duration": 0.091605,
     "end_time": "2021-05-06T09:41:31.912349",
     "exception": false,
     "start_time": "2021-05-06T09:41:31.820744",
     "status": "completed"
    },
    "tags": []
   },
   "outputs": [
    {
     "name": "stdout",
     "output_type": "stream",
     "text": [
      "0\n"
     ]
    }
   ],
   "source": [
    "#one test case\n",
    "print(jaccard_for_followees(273084,156302))"
   ]
  },
  {
   "cell_type": "code",
   "execution_count": 38,
   "metadata": {
    "execution": {
     "iopub.execute_input": "2021-05-06T09:41:32.085629Z",
     "iopub.status.busy": "2021-05-06T09:41:32.084371Z",
     "iopub.status.idle": "2021-05-06T09:41:32.088240Z",
     "shell.execute_reply": "2021-05-06T09:41:32.087651Z"
    },
    "id": "Gf8njOv6VFGK",
    "outputId": "8ba07727-a0ab-498e-819f-0d310876191c",
    "papermill": {
     "duration": 0.091371,
     "end_time": "2021-05-06T09:41:32.088398",
     "exception": false,
     "start_time": "2021-05-06T09:41:31.997027",
     "status": "completed"
    },
    "tags": []
   },
   "outputs": [
    {
     "name": "stdout",
     "output_type": "stream",
     "text": [
      "0.0\n"
     ]
    }
   ],
   "source": [
    "#node 1635354 not in graph \n",
    "print(jaccard_for_followees(273084,1505602))"
   ]
  },
  {
   "cell_type": "code",
   "execution_count": 39,
   "metadata": {
    "execution": {
     "iopub.execute_input": "2021-05-06T09:41:32.262635Z",
     "iopub.status.busy": "2021-05-06T09:41:32.261963Z",
     "iopub.status.idle": "2021-05-06T09:41:32.264350Z",
     "shell.execute_reply": "2021-05-06T09:41:32.264723Z"
    },
    "id": "LO-a5ZkKVFGO",
    "papermill": {
     "duration": 0.091477,
     "end_time": "2021-05-06T09:41:32.264846",
     "exception": false,
     "start_time": "2021-05-06T09:41:32.173369",
     "status": "completed"
    },
    "tags": []
   },
   "outputs": [],
   "source": [
    "#for followers\n",
    "def jaccard_for_followers(a,b):\n",
    "    try:\n",
    "        if len(set(train_graph.predecessors(a))) == 0  | len(set(g.predecessors(b))) == 0:\n",
    "            return 0\n",
    "        sim = (len(set(train_graph.predecessors(a)).intersection(set(train_graph.predecessors(b)))))/\\\n",
    "                                 (len(set(train_graph.predecessors(a)).union(set(train_graph.predecessors(b)))))\n",
    "        return sim\n",
    "    except:\n",
    "        return 0"
   ]
  },
  {
   "cell_type": "code",
   "execution_count": 40,
   "metadata": {
    "execution": {
     "iopub.execute_input": "2021-05-06T09:41:32.434723Z",
     "iopub.status.busy": "2021-05-06T09:41:32.434091Z",
     "iopub.status.idle": "2021-05-06T09:41:32.436838Z",
     "shell.execute_reply": "2021-05-06T09:41:32.437245Z"
    },
    "id": "DlbX2t0jVFGQ",
    "outputId": "7e4b4536-442a-4b0c-ae02-fb442c1955db",
    "papermill": {
     "duration": 0.089812,
     "end_time": "2021-05-06T09:41:32.437383",
     "exception": false,
     "start_time": "2021-05-06T09:41:32.347571",
     "status": "completed"
    },
    "tags": []
   },
   "outputs": [
    {
     "name": "stdout",
     "output_type": "stream",
     "text": [
      "0.0\n"
     ]
    }
   ],
   "source": [
    "print(jaccard_for_followers(273084,470294))"
   ]
  },
  {
   "cell_type": "code",
   "execution_count": 41,
   "metadata": {
    "execution": {
     "iopub.execute_input": "2021-05-06T09:41:32.607663Z",
     "iopub.status.busy": "2021-05-06T09:41:32.606874Z",
     "iopub.status.idle": "2021-05-06T09:41:32.610593Z",
     "shell.execute_reply": "2021-05-06T09:41:32.611169Z"
    },
    "id": "OgeBW2LMVFGU",
    "outputId": "1e12fabe-d990-4506-bb6b-c86b01d1b0af",
    "papermill": {
     "duration": 0.090877,
     "end_time": "2021-05-06T09:41:32.611342",
     "exception": false,
     "start_time": "2021-05-06T09:41:32.520465",
     "status": "completed"
    },
    "tags": []
   },
   "outputs": [
    {
     "name": "stdout",
     "output_type": "stream",
     "text": [
      "0\n"
     ]
    }
   ],
   "source": [
    "#node 1635354 not in graph \n",
    "print(jaccard_for_followees(669354,1635354))"
   ]
  },
  {
   "cell_type": "markdown",
   "metadata": {
    "id": "MnH2my2UVFGX",
    "papermill": {
     "duration": 0.083455,
     "end_time": "2021-05-06T09:41:32.779764",
     "exception": false,
     "start_time": "2021-05-06T09:41:32.696309",
     "status": "completed"
    },
    "tags": []
   },
   "source": [
    "## 2.1.2 Cosine distance\n",
    "Cosine similarity measures the similarity between two vectors of an inner product space. It is measured by the cosine of the angle between two vectors and determines whether two vectors are pointing in roughly the same direction. For more info: https://en.wikipedia.org/wiki/Cosine_similarity"
   ]
  },
  {
   "cell_type": "markdown",
   "metadata": {
    "id": "XNvdBGS2VFGY",
    "papermill": {
     "duration": 0.083455,
     "end_time": "2021-05-06T09:41:32.946929",
     "exception": false,
     "start_time": "2021-05-06T09:41:32.863474",
     "status": "completed"
    },
    "tags": []
   },
   "source": [
    "\\begin{equation}\n",
    "CosineDistance = \\frac{|X\\cap Y|}{|X|\\cdot|Y|} \n",
    "\\end{equation}"
   ]
  },
  {
   "cell_type": "code",
   "execution_count": 42,
   "metadata": {
    "execution": {
     "iopub.execute_input": "2021-05-06T09:41:33.120770Z",
     "iopub.status.busy": "2021-05-06T09:41:33.120024Z",
     "iopub.status.idle": "2021-05-06T09:41:33.122799Z",
     "shell.execute_reply": "2021-05-06T09:41:33.122339Z"
    },
    "id": "Iznz67EdVFGZ",
    "papermill": {
     "duration": 0.092308,
     "end_time": "2021-05-06T09:41:33.122903",
     "exception": false,
     "start_time": "2021-05-06T09:41:33.030595",
     "status": "completed"
    },
    "tags": []
   },
   "outputs": [],
   "source": [
    "#for followees\n",
    "def cosine_for_followees(a,b):\n",
    "    try:\n",
    "        if len(set(train_graph.successors(a))) == 0  | len(set(train_graph.successors(b))) == 0:\n",
    "            return 0\n",
    "        sim = (len(set(train_graph.successors(a)).intersection(set(train_graph.successors(b)))))/\\\n",
    "                                    (math.sqrt(len(set(train_graph.successors(a)))*len((set(train_graph.successors(b))))))\n",
    "        return sim\n",
    "    except:\n",
    "        return 0"
   ]
  },
  {
   "cell_type": "code",
   "execution_count": 43,
   "metadata": {
    "execution": {
     "iopub.execute_input": "2021-05-06T09:41:33.296167Z",
     "iopub.status.busy": "2021-05-06T09:41:33.295573Z",
     "iopub.status.idle": "2021-05-06T09:41:33.298781Z",
     "shell.execute_reply": "2021-05-06T09:41:33.299372Z"
    },
    "id": "H55ALjkMVFGc",
    "outputId": "531fceba-60f4-4e6b-97f4-f37733dc468f",
    "papermill": {
     "duration": 0.091998,
     "end_time": "2021-05-06T09:41:33.299541",
     "exception": false,
     "start_time": "2021-05-06T09:41:33.207543",
     "status": "completed"
    },
    "tags": []
   },
   "outputs": [
    {
     "name": "stdout",
     "output_type": "stream",
     "text": [
      "0\n"
     ]
    }
   ],
   "source": [
    "print(cosine_for_followees(273084,156302))"
   ]
  },
  {
   "cell_type": "code",
   "execution_count": 44,
   "metadata": {
    "execution": {
     "iopub.execute_input": "2021-05-06T09:41:33.474229Z",
     "iopub.status.busy": "2021-05-06T09:41:33.473646Z",
     "iopub.status.idle": "2021-05-06T09:41:33.476697Z",
     "shell.execute_reply": "2021-05-06T09:41:33.477335Z"
    },
    "id": "q0RGKgJFVFGf",
    "outputId": "41202fc6-f4aa-4a1d-d8f6-84f960a3fbba",
    "papermill": {
     "duration": 0.091769,
     "end_time": "2021-05-06T09:41:33.477510",
     "exception": false,
     "start_time": "2021-05-06T09:41:33.385741",
     "status": "completed"
    },
    "tags": []
   },
   "outputs": [
    {
     "name": "stdout",
     "output_type": "stream",
     "text": [
      "0\n"
     ]
    }
   ],
   "source": [
    "print(cosine_for_followees(273084,1635354))"
   ]
  },
  {
   "cell_type": "code",
   "execution_count": 45,
   "metadata": {
    "execution": {
     "iopub.execute_input": "2021-05-06T09:41:33.654663Z",
     "iopub.status.busy": "2021-05-06T09:41:33.653964Z",
     "iopub.status.idle": "2021-05-06T09:41:33.657213Z",
     "shell.execute_reply": "2021-05-06T09:41:33.657937Z"
    },
    "id": "KJ_yGxA0VFGj",
    "papermill": {
     "duration": 0.095017,
     "end_time": "2021-05-06T09:41:33.658079",
     "exception": false,
     "start_time": "2021-05-06T09:41:33.563062",
     "status": "completed"
    },
    "tags": []
   },
   "outputs": [],
   "source": [
    "def cosine_for_followers(a,b):\n",
    "    try:\n",
    "        \n",
    "        if len(set(train_graph.predecessors(a))) == 0  | len(set(train_graph.predecessors(b))) == 0:\n",
    "            return 0\n",
    "        sim = (len(set(train_graph.predecessors(a)).intersection(set(train_graph.predecessors(b)))))/\\\n",
    "                                     (math.sqrt(len(set(train_graph.predecessors(a))))*(len(set(train_graph.predecessors(b)))))\n",
    "        return sim\n",
    "    except:\n",
    "        return 0"
   ]
  },
  {
   "cell_type": "code",
   "execution_count": 46,
   "metadata": {
    "execution": {
     "iopub.execute_input": "2021-05-06T09:41:33.947015Z",
     "iopub.status.busy": "2021-05-06T09:41:33.946147Z",
     "iopub.status.idle": "2021-05-06T09:41:33.956068Z",
     "shell.execute_reply": "2021-05-06T09:41:33.956849Z"
    },
    "id": "75QrFJb6VFGm",
    "outputId": "f01e0558-f1e3-465f-ab14-0e4ca764f4aa",
    "papermill": {
     "duration": 0.153903,
     "end_time": "2021-05-06T09:41:33.957064",
     "exception": false,
     "start_time": "2021-05-06T09:41:33.803161",
     "status": "completed"
    },
    "tags": []
   },
   "outputs": [
    {
     "name": "stdout",
     "output_type": "stream",
     "text": [
      "0\n"
     ]
    }
   ],
   "source": [
    "print(cosine_for_followers(2,470294))"
   ]
  },
  {
   "cell_type": "code",
   "execution_count": 47,
   "metadata": {
    "execution": {
     "iopub.execute_input": "2021-05-06T09:41:34.256912Z",
     "iopub.status.busy": "2021-05-06T09:41:34.256052Z",
     "iopub.status.idle": "2021-05-06T09:41:34.260949Z",
     "shell.execute_reply": "2021-05-06T09:41:34.257632Z"
    },
    "id": "-ut4k_F0VFGq",
    "outputId": "8bc9607a-7262-43e2-9de8-f71d276762fc",
    "papermill": {
     "duration": 0.162864,
     "end_time": "2021-05-06T09:41:34.261226",
     "exception": false,
     "start_time": "2021-05-06T09:41:34.098362",
     "status": "completed"
    },
    "tags": []
   },
   "outputs": [
    {
     "name": "stdout",
     "output_type": "stream",
     "text": [
      "0\n"
     ]
    }
   ],
   "source": [
    "print(cosine_for_followers(669354,1635354))"
   ]
  },
  {
   "cell_type": "markdown",
   "metadata": {
    "id": "DaIHhWh6VFGv",
    "papermill": {
     "duration": 0.151665,
     "end_time": "2021-05-06T09:41:34.568474",
     "exception": false,
     "start_time": "2021-05-06T09:41:34.416809",
     "status": "completed"
    },
    "tags": []
   },
   "source": [
    "## 2.2 Ranking Measures"
   ]
  },
  {
   "cell_type": "markdown",
   "metadata": {
    "id": "6nfV1SprVFGx",
    "papermill": {
     "duration": 0.11893,
     "end_time": "2021-05-06T09:41:34.843143",
     "exception": false,
     "start_time": "2021-05-06T09:41:34.724213",
     "status": "completed"
    },
    "tags": []
   },
   "source": [
    "https://networkx.github.io/documentation/networkx-1.10/reference/generated/networkx.algorithms.link_analysis.pagerank_alg.pagerank.html\n",
    "\n",
    "PageRank computes a ranking of the nodes in the graph G based on the structure of the incoming links.\n",
    "\n",
    "<img src='PageRanks-Example.jpg'/>\n",
    "\n",
    "Mathematical PageRanks for a simple network, expressed as percentages. (Google uses a logarithmic scale.) Page C has a higher PageRank than Page E, even though there are fewer links to C; the one link to C comes from an important page and hence is of high value. If web surfers who start on a random page have an 85% likelihood of choosing a random link from the page they are currently visiting, and a 15% likelihood of jumping to a page chosen at random from the entire web, they will reach Page E 8.1% of the time. <b>(The 15% likelihood of jumping to an arbitrary page corresponds to a damping factor of 85%.) Without damping, all web surfers would eventually end up on Pages A, B, or C, and all other pages would have PageRank zero. In the presence of damping, Page A effectively links to all pages in the web, even though it has no outgoing links of its own.</b>"
   ]
  },
  {
   "cell_type": "markdown",
   "metadata": {
    "id": "GkkfYYZ6VFGy",
    "papermill": {
     "duration": 0.088464,
     "end_time": "2021-05-06T09:41:35.020467",
     "exception": false,
     "start_time": "2021-05-06T09:41:34.932003",
     "status": "completed"
    },
    "tags": []
   },
   "source": [
    "## 2.2.1 Page Ranking\n",
    "\n",
    "PageRank (PR) is an algorithm used by Google Search to rank web pages in their search engine results. According to Google:\n",
    "\n",
    "\"PageRank works by counting the number and quality of links to a page to determine a rough estimate of how important the website is. The underlying assumption is that more important websites are likely to receive more links from other websites.\"\n",
    "\n",
    "For more info: https://en.wikipedia.org/wiki/PageRank\n"
   ]
  },
  {
   "cell_type": "code",
   "execution_count": 48,
   "metadata": {
    "execution": {
     "iopub.execute_input": "2021-05-06T09:41:35.209977Z",
     "iopub.status.busy": "2021-05-06T09:41:35.209181Z",
     "iopub.status.idle": "2021-05-06T09:41:35.212687Z",
     "shell.execute_reply": "2021-05-06T09:41:35.213167Z"
    },
    "id": "AtvqwZ34VFGy",
    "papermill": {
     "duration": 0.104232,
     "end_time": "2021-05-06T09:41:35.213316",
     "exception": false,
     "start_time": "2021-05-06T09:41:35.109084",
     "status": "completed"
    },
    "tags": []
   },
   "outputs": [],
   "source": [
    "if not os.path.isfile('data/fea_sample/page_rank.p'):\n",
    "    pr = nx.pagerank(train_graph, alpha=0.85)\n",
    "    pickle.dump(pr,open('data/fea_sample/page_rank.p','wb'))\n",
    "else:\n",
    "    pr = pickle.load(open('data/fea_sample/page_rank.p','rb'))"
   ]
  },
  {
   "cell_type": "code",
   "execution_count": 49,
   "metadata": {
    "execution": {
     "iopub.execute_input": "2021-05-06T09:41:35.400663Z",
     "iopub.status.busy": "2021-05-06T09:41:35.399859Z",
     "iopub.status.idle": "2021-05-06T09:41:35.403772Z",
     "shell.execute_reply": "2021-05-06T09:41:35.403371Z"
    },
    "id": "lXGKYYf6VFG2",
    "outputId": "bb3d1b7a-81f9-44ab-dbe7-3214ccd47179",
    "papermill": {
     "duration": 0.104284,
     "end_time": "2021-05-06T09:41:35.403884",
     "exception": false,
     "start_time": "2021-05-06T09:41:35.299600",
     "status": "completed"
    },
    "tags": []
   },
   "outputs": [
    {
     "name": "stdout",
     "output_type": "stream",
     "text": [
      "min 8.58930816864722e-07\n",
      "max 9.881649522394452e-06\n",
      "mean 1.1330995371270275e-06\n"
     ]
    }
   ],
   "source": [
    "print('min',pr[min(pr, key=pr.get)])\n",
    "print('max',pr[max(pr, key=pr.get)])\n",
    "print('mean',float(sum(pr.values())) / len(pr))"
   ]
  },
  {
   "cell_type": "code",
   "execution_count": 50,
   "metadata": {
    "execution": {
     "iopub.execute_input": "2021-05-06T09:41:35.589542Z",
     "iopub.status.busy": "2021-05-06T09:41:35.581183Z",
     "iopub.status.idle": "2021-05-06T09:41:35.592728Z",
     "shell.execute_reply": "2021-05-06T09:41:35.593210Z"
    },
    "id": "5xwlah4oVFG4",
    "outputId": "992fdfad-7ff6-4626-c9ee-d9bce220a680",
    "papermill": {
     "duration": 0.101881,
     "end_time": "2021-05-06T09:41:35.593358",
     "exception": false,
     "start_time": "2021-05-06T09:41:35.491477",
     "status": "completed"
    },
    "tags": []
   },
   "outputs": [
    {
     "name": "stdout",
     "output_type": "stream",
     "text": [
      "1.1330995371270275e-06\n"
     ]
    }
   ],
   "source": [
    "#for imputing to nodes which are not there in Train data\n",
    "mean_pr = float(sum(pr.values())) / len(pr)\n",
    "print(mean_pr)"
   ]
  },
  {
   "cell_type": "markdown",
   "metadata": {
    "id": "HhPbSL1tVFG7",
    "papermill": {
     "duration": 0.087054,
     "end_time": "2021-05-06T09:41:35.768375",
     "exception": false,
     "start_time": "2021-05-06T09:41:35.681321",
     "status": "completed"
    },
    "tags": []
   },
   "source": [
    "# 2.3. Other Graph Features\n",
    "In the current section we will be addresing other important features for a complete graph anylisis."
   ]
  },
  {
   "cell_type": "markdown",
   "metadata": {
    "id": "AgsorCl7VFG8",
    "papermill": {
     "duration": 0.087295,
     "end_time": "2021-05-06T09:41:35.943161",
     "exception": false,
     "start_time": "2021-05-06T09:41:35.855866",
     "status": "completed"
    },
    "tags": []
   },
   "source": [
    "## 2.3.1 Shortest path:"
   ]
  },
  {
   "cell_type": "markdown",
   "metadata": {
    "id": "E7teH2LCVFG9",
    "papermill": {
     "duration": 0.088452,
     "end_time": "2021-05-06T09:41:36.125165",
     "exception": false,
     "start_time": "2021-05-06T09:41:36.036713",
     "status": "completed"
    },
    "tags": []
   },
   "source": [
    "In graph theory, the shortest path problem is the problem of finding a path between two vertices (or nodes) in a graph such that the sum of the weights of its constituent edges is minimized. It is widely studied in multiple algorithmical disciplines related to graphs design because its effectiveness for analytical tasks. For more info: https://en.wikipedia.org/wiki/Cosine_similarityGetting . Following function allows to calculate the shortest path between two nodes."
   ]
  },
  {
   "cell_type": "code",
   "execution_count": 51,
   "metadata": {
    "execution": {
     "iopub.execute_input": "2021-05-06T09:41:36.309543Z",
     "iopub.status.busy": "2021-05-06T09:41:36.308665Z",
     "iopub.status.idle": "2021-05-06T09:41:36.311301Z",
     "shell.execute_reply": "2021-05-06T09:41:36.310857Z"
    },
    "id": "RA076ovzVFG9",
    "papermill": {
     "duration": 0.099114,
     "end_time": "2021-05-06T09:41:36.311416",
     "exception": false,
     "start_time": "2021-05-06T09:41:36.212302",
     "status": "completed"
    },
    "tags": []
   },
   "outputs": [],
   "source": [
    "#if has direct edge then deleting that edge and calculating shortest path\n",
    "def compute_shortest_path_length(a,b):\n",
    "    p=-1\n",
    "    try:\n",
    "        if train_graph.has_edge(a,b):\n",
    "            train_graph.remove_edge(a,b)\n",
    "            p= nx.shortest_path_length(train_graph,source=a,target=b)\n",
    "            train_graph.add_edge(a,b)\n",
    "        else:\n",
    "            p= nx.shortest_path_length(train_graph,source=a,target=b)\n",
    "        return p\n",
    "    except:\n",
    "        return -1"
   ]
  },
  {
   "cell_type": "code",
   "execution_count": 52,
   "metadata": {
    "execution": {
     "iopub.execute_input": "2021-05-06T09:41:36.494808Z",
     "iopub.status.busy": "2021-05-06T09:41:36.494134Z",
     "iopub.status.idle": "2021-05-06T09:41:36.497571Z",
     "shell.execute_reply": "2021-05-06T09:41:36.497091Z"
    },
    "id": "AxnKId11VFG_",
    "outputId": "15ca223a-6a04-4549-d010-54619b472a9e",
    "papermill": {
     "duration": 0.094911,
     "end_time": "2021-05-06T09:41:36.497679",
     "exception": false,
     "start_time": "2021-05-06T09:41:36.402768",
     "status": "completed"
    },
    "tags": []
   },
   "outputs": [
    {
     "data": {
      "text/plain": [
       "-1"
      ]
     },
     "execution_count": 52,
     "metadata": {},
     "output_type": "execute_result"
    }
   ],
   "source": [
    "#testing\n",
    "compute_shortest_path_length(2938, 68759)"
   ]
  },
  {
   "cell_type": "code",
   "execution_count": 53,
   "metadata": {
    "execution": {
     "iopub.execute_input": "2021-05-06T09:41:36.677036Z",
     "iopub.status.busy": "2021-05-06T09:41:36.676350Z",
     "iopub.status.idle": "2021-05-06T09:41:36.679693Z",
     "shell.execute_reply": "2021-05-06T09:41:36.679308Z"
    },
    "id": "0huWCNtRVFHC",
    "outputId": "6debfa4f-2067-48bc-84b3-ab86e2d9dea6",
    "papermill": {
     "duration": 0.094866,
     "end_time": "2021-05-06T09:41:36.679795",
     "exception": false,
     "start_time": "2021-05-06T09:41:36.584929",
     "status": "completed"
    },
    "tags": []
   },
   "outputs": [
    {
     "data": {
      "text/plain": [
       "-1"
      ]
     },
     "execution_count": 53,
     "metadata": {},
     "output_type": "execute_result"
    }
   ],
   "source": [
    "#testing\n",
    "compute_shortest_path_length(669354,1635354)"
   ]
  },
  {
   "cell_type": "markdown",
   "metadata": {
    "id": "baE_95bzVFHF",
    "papermill": {
     "duration": 0.087587,
     "end_time": "2021-05-06T09:41:36.856204",
     "exception": false,
     "start_time": "2021-05-06T09:41:36.768617",
     "status": "completed"
    },
    "tags": []
   },
   "source": [
    "## 2.3.2 Checking for same community\n",
    "A community, with respect to graphs, can be defined as a subset of nodes that are densely connected to each other and loosely connected to the nodes in the other communities in the same graph. We will use the networkx method weakly_connected_components(train_graph) to define different communities and define our own function to check if two nodes belong to the same community."
   ]
  },
  {
   "cell_type": "code",
   "execution_count": 54,
   "metadata": {
    "execution": {
     "iopub.execute_input": "2021-05-06T09:41:37.050995Z",
     "iopub.status.busy": "2021-05-06T09:41:37.050217Z",
     "iopub.status.idle": "2021-05-06T09:41:37.054018Z",
     "shell.execute_reply": "2021-05-06T09:41:37.053612Z"
    },
    "id": "15CIQqAbVFHG",
    "papermill": {
     "duration": 0.109794,
     "end_time": "2021-05-06T09:41:37.054128",
     "exception": false,
     "start_time": "2021-05-06T09:41:36.944334",
     "status": "completed"
    },
    "tags": []
   },
   "outputs": [],
   "source": [
    "#getting weekly connected edges from graph \n",
    "wcc=list(nx.weakly_connected_components(train_graph))\n",
    "def belongs_to_same_wcc(a,b):\n",
    "    index = []\n",
    "    if train_graph.has_edge(b,a):\n",
    "        return 1\n",
    "    if train_graph.has_edge(a,b):\n",
    "            for i in wcc:\n",
    "                if a in i:\n",
    "                    index= i\n",
    "                    break\n",
    "            if (b in index):\n",
    "                train_graph.remove_edge(a,b)\n",
    "                if compute_shortest_path_length(a,b)==-1:\n",
    "                    train_graph.add_edge(a,b)\n",
    "                    return 0\n",
    "                else:\n",
    "                    train_graph.add_edge(a,b)\n",
    "                    return 1\n",
    "            else:\n",
    "                return 0\n",
    "    else:\n",
    "            for i in wcc:\n",
    "                if a in i:\n",
    "                    index= i\n",
    "                    break\n",
    "            if(b in index):\n",
    "                return 1\n",
    "            else:\n",
    "                return 0"
   ]
  },
  {
   "cell_type": "code",
   "execution_count": 55,
   "metadata": {
    "execution": {
     "iopub.execute_input": "2021-05-06T09:41:37.244028Z",
     "iopub.status.busy": "2021-05-06T09:41:37.242547Z",
     "iopub.status.idle": "2021-05-06T09:41:37.247222Z",
     "shell.execute_reply": "2021-05-06T09:41:37.247690Z"
    },
    "id": "fAzOHtCFVFHI",
    "outputId": "2b043a87-b460-42bf-f37e-4c04bbed6586",
    "papermill": {
     "duration": 0.104726,
     "end_time": "2021-05-06T09:41:37.247815",
     "exception": false,
     "start_time": "2021-05-06T09:41:37.143089",
     "status": "completed"
    },
    "tags": []
   },
   "outputs": [
    {
     "data": {
      "text/plain": [
       "0"
      ]
     },
     "execution_count": 55,
     "metadata": {},
     "output_type": "execute_result"
    }
   ],
   "source": [
    "belongs_to_same_wcc(861, 1659750)"
   ]
  },
  {
   "cell_type": "code",
   "execution_count": 56,
   "metadata": {
    "execution": {
     "iopub.execute_input": "2021-05-06T09:41:37.437624Z",
     "iopub.status.busy": "2021-05-06T09:41:37.436862Z",
     "iopub.status.idle": "2021-05-06T09:41:37.440194Z",
     "shell.execute_reply": "2021-05-06T09:41:37.440599Z"
    },
    "id": "HMdYpPuGVFHK",
    "outputId": "2005e22c-b60f-48d7-839b-650bf97cae35",
    "papermill": {
     "duration": 0.104513,
     "end_time": "2021-05-06T09:41:37.440728",
     "exception": false,
     "start_time": "2021-05-06T09:41:37.336215",
     "status": "completed"
    },
    "tags": []
   },
   "outputs": [
    {
     "data": {
      "text/plain": [
       "0"
      ]
     },
     "execution_count": 56,
     "metadata": {},
     "output_type": "execute_result"
    }
   ],
   "source": [
    "belongs_to_same_wcc(669354,1635354)"
   ]
  },
  {
   "cell_type": "markdown",
   "metadata": {
    "id": "q74nth0OVFHN",
    "papermill": {
     "duration": 0.089841,
     "end_time": "2021-05-06T09:41:37.620354",
     "exception": false,
     "start_time": "2021-05-06T09:41:37.530513",
     "status": "completed"
    },
    "tags": []
   },
   "source": [
    "## 2.3.3 Adamic/Adar Index:\n",
    "Adamic/Adar measures is defined as inverted sum of degrees of common neighbours for given two vertices. For more info: https://en.wikipedia.org/wiki/Adamic/Adar_index\n",
    "$$A(x,y)=\\sum_{u \\in N(x) \\cap N(y)}\\frac{1}{log(|N(u)|)}$$"
   ]
  },
  {
   "cell_type": "code",
   "execution_count": 57,
   "metadata": {
    "execution": {
     "iopub.execute_input": "2021-05-06T09:41:37.805336Z",
     "iopub.status.busy": "2021-05-06T09:41:37.804562Z",
     "iopub.status.idle": "2021-05-06T09:41:37.807139Z",
     "shell.execute_reply": "2021-05-06T09:41:37.806739Z"
    },
    "id": "CeS98LI5VFHO",
    "papermill": {
     "duration": 0.097137,
     "end_time": "2021-05-06T09:41:37.807245",
     "exception": false,
     "start_time": "2021-05-06T09:41:37.710108",
     "status": "completed"
    },
    "tags": []
   },
   "outputs": [],
   "source": [
    "#adar index\n",
    "def calc_adar_in(a,b):\n",
    "    sum=0\n",
    "    try:\n",
    "        n=list(set(train_graph.successors(a)).intersection(set(train_graph.successors(b))))\n",
    "        if len(n)!=0:\n",
    "            for i in n:\n",
    "                sum=sum+(1/np.log10(len(list(train_graph.predecessors(i)))))\n",
    "            return sum\n",
    "        else:\n",
    "            return 0\n",
    "    except:\n",
    "        return 0"
   ]
  },
  {
   "cell_type": "code",
   "execution_count": 58,
   "metadata": {
    "execution": {
     "iopub.execute_input": "2021-05-06T09:41:37.992808Z",
     "iopub.status.busy": "2021-05-06T09:41:37.992179Z",
     "iopub.status.idle": "2021-05-06T09:41:37.995066Z",
     "shell.execute_reply": "2021-05-06T09:41:37.995521Z"
    },
    "id": "KezFeRmyVFHQ",
    "outputId": "2f9c0e11-02d9-4f28-d67a-65e3d4943e99",
    "papermill": {
     "duration": 0.098943,
     "end_time": "2021-05-06T09:41:37.995652",
     "exception": false,
     "start_time": "2021-05-06T09:41:37.896709",
     "status": "completed"
    },
    "tags": []
   },
   "outputs": [
    {
     "data": {
      "text/plain": [
       "2.095903274289385"
      ]
     },
     "execution_count": 58,
     "metadata": {},
     "output_type": "execute_result"
    }
   ],
   "source": [
    "calc_adar_in(1,189226)"
   ]
  },
  {
   "cell_type": "code",
   "execution_count": 59,
   "metadata": {
    "execution": {
     "iopub.execute_input": "2021-05-06T09:41:38.180973Z",
     "iopub.status.busy": "2021-05-06T09:41:38.180278Z",
     "iopub.status.idle": "2021-05-06T09:41:38.183236Z",
     "shell.execute_reply": "2021-05-06T09:41:38.183684Z"
    },
    "id": "vj_m89bBVFHV",
    "outputId": "68a0a099-2954-402f-c80f-6d436ffa1aba",
    "papermill": {
     "duration": 0.097013,
     "end_time": "2021-05-06T09:41:38.183806",
     "exception": false,
     "start_time": "2021-05-06T09:41:38.086793",
     "status": "completed"
    },
    "tags": []
   },
   "outputs": [
    {
     "data": {
      "text/plain": [
       "0"
      ]
     },
     "execution_count": 59,
     "metadata": {},
     "output_type": "execute_result"
    }
   ],
   "source": [
    "calc_adar_in(669354,1635354)"
   ]
  },
  {
   "cell_type": "markdown",
   "metadata": {
    "id": "pBUudhFAVFHY",
    "papermill": {
     "duration": 0.089987,
     "end_time": "2021-05-06T09:41:38.364321",
     "exception": false,
     "start_time": "2021-05-06T09:41:38.274334",
     "status": "completed"
    },
    "tags": []
   },
   "source": [
    "## 2.3.4 Is the user following back:\n",
    "Another feature we can use is to check if the user is following back."
   ]
  },
  {
   "cell_type": "code",
   "execution_count": 60,
   "metadata": {
    "execution": {
     "iopub.execute_input": "2021-05-06T09:41:38.548635Z",
     "iopub.status.busy": "2021-05-06T09:41:38.547916Z",
     "iopub.status.idle": "2021-05-06T09:41:38.550098Z",
     "shell.execute_reply": "2021-05-06T09:41:38.550600Z"
    },
    "id": "j_mwmopLVFHZ",
    "papermill": {
     "duration": 0.096653,
     "end_time": "2021-05-06T09:41:38.550720",
     "exception": false,
     "start_time": "2021-05-06T09:41:38.454067",
     "status": "completed"
    },
    "tags": []
   },
   "outputs": [],
   "source": [
    "def follows_back(a,b):\n",
    "    if train_graph.has_edge(b,a):\n",
    "        return 1\n",
    "    else:\n",
    "        return 0"
   ]
  },
  {
   "cell_type": "code",
   "execution_count": 61,
   "metadata": {
    "execution": {
     "iopub.execute_input": "2021-05-06T09:41:38.751295Z",
     "iopub.status.busy": "2021-05-06T09:41:38.750511Z",
     "iopub.status.idle": "2021-05-06T09:41:38.754394Z",
     "shell.execute_reply": "2021-05-06T09:41:38.753875Z"
    },
    "id": "LdjUXIfbVFHb",
    "outputId": "ed3d8640-9834-4a95-e712-804292da70e9",
    "papermill": {
     "duration": 0.113405,
     "end_time": "2021-05-06T09:41:38.754499",
     "exception": false,
     "start_time": "2021-05-06T09:41:38.641094",
     "status": "completed"
    },
    "tags": []
   },
   "outputs": [
    {
     "data": {
      "text/plain": [
       "1"
      ]
     },
     "execution_count": 61,
     "metadata": {},
     "output_type": "execute_result"
    }
   ],
   "source": [
    "follows_back(1,189226)"
   ]
  },
  {
   "cell_type": "code",
   "execution_count": 62,
   "metadata": {
    "execution": {
     "iopub.execute_input": "2021-05-06T09:41:38.952504Z",
     "iopub.status.busy": "2021-05-06T09:41:38.938479Z",
     "iopub.status.idle": "2021-05-06T09:41:38.955779Z",
     "shell.execute_reply": "2021-05-06T09:41:38.956182Z"
    },
    "id": "PmZtL65YVFHf",
    "outputId": "18ea6fe2-3f96-42c0-d116-ecb76ddba4b5",
    "papermill": {
     "duration": 0.111468,
     "end_time": "2021-05-06T09:41:38.956328",
     "exception": false,
     "start_time": "2021-05-06T09:41:38.844860",
     "status": "completed"
    },
    "tags": []
   },
   "outputs": [
    {
     "data": {
      "text/plain": [
       "0"
      ]
     },
     "execution_count": 62,
     "metadata": {},
     "output_type": "execute_result"
    }
   ],
   "source": [
    "follows_back(669354,1635354)"
   ]
  },
  {
   "cell_type": "markdown",
   "metadata": {
    "id": "29Vrq2EXVFHi",
    "papermill": {
     "duration": 0.091795,
     "end_time": "2021-05-06T09:41:39.139499",
     "exception": false,
     "start_time": "2021-05-06T09:41:39.047704",
     "status": "completed"
    },
    "tags": []
   },
   "source": [
    "## 2.3.5 Katz Centrality:\n",
    "\n",
    "Katz centrality computes the centrality for a node \n",
    "based on the centrality of its neighbors. It is a \n",
    "generalization of the eigenvector centrality. The\n",
    "Katz centrality for node `i` is\n",
    " \n",
    "$$x_i = \\alpha \\sum_{j} A_{ij} x_j + \\beta,$$\n",
    "where `A` is the adjacency matrix of the graph G \n",
    "with eigenvalues $\\lambda$. The parameter $\\beta$ controls the initial centrality and \n",
    "\n",
    "$$\\alpha < \\frac{1}{\\lambda_{max}}.$$\n",
    "\n",
    "For more info: https://en.wikipedia.org/wiki/Katz_centrality, https://www.geeksforgeeks.org/katz-centrality-centrality-measure/"
   ]
  },
  {
   "cell_type": "code",
   "execution_count": 63,
   "metadata": {
    "execution": {
     "iopub.execute_input": "2021-05-06T09:41:39.337712Z",
     "iopub.status.busy": "2021-05-06T09:41:39.336796Z",
     "iopub.status.idle": "2021-05-06T09:41:39.340881Z",
     "shell.execute_reply": "2021-05-06T09:41:39.340364Z"
    },
    "id": "CN5OSqrkVFHj",
    "papermill": {
     "duration": 0.109848,
     "end_time": "2021-05-06T09:41:39.340991",
     "exception": false,
     "start_time": "2021-05-06T09:41:39.231143",
     "status": "completed"
    },
    "tags": []
   },
   "outputs": [],
   "source": [
    "if not os.path.isfile('data/fea_sample/katz.p'):\n",
    "    katz = nx.katz.katz_centrality(train_graph,alpha=0.005,beta=1)\n",
    "    pickle.dump(katz,open('data/fea_sample/katz.p','wb'))\n",
    "else:\n",
    "    katz = pickle.load(open('data/fea_sample/katz.p','rb'))"
   ]
  },
  {
   "cell_type": "code",
   "execution_count": 64,
   "metadata": {
    "execution": {
     "iopub.execute_input": "2021-05-06T09:41:39.542045Z",
     "iopub.status.busy": "2021-05-06T09:41:39.541163Z",
     "iopub.status.idle": "2021-05-06T09:41:39.545177Z",
     "shell.execute_reply": "2021-05-06T09:41:39.544769Z"
    },
    "id": "gcU83vw7VFHm",
    "outputId": "05f49ad4-46fe-4cf6-f32a-2fe4846b0714",
    "papermill": {
     "duration": 0.111478,
     "end_time": "2021-05-06T09:41:39.545305",
     "exception": false,
     "start_time": "2021-05-06T09:41:39.433827",
     "status": "completed"
    },
    "tags": []
   },
   "outputs": [
    {
     "name": "stdout",
     "output_type": "stream",
     "text": [
      "min 0.001055291584524605\n",
      "max 0.001512480215481431\n",
      "mean 0.0010644044296598304\n"
     ]
    }
   ],
   "source": [
    "print('min',katz[min(katz, key=katz.get)])\n",
    "print('max',katz[max(katz, key=katz.get)])\n",
    "print('mean',float(sum(katz.values())) / len(katz))"
   ]
  },
  {
   "cell_type": "code",
   "execution_count": 65,
   "metadata": {
    "execution": {
     "iopub.execute_input": "2021-05-06T09:41:39.734085Z",
     "iopub.status.busy": "2021-05-06T09:41:39.733391Z",
     "iopub.status.idle": "2021-05-06T09:41:39.744911Z",
     "shell.execute_reply": "2021-05-06T09:41:39.744519Z"
    },
    "id": "qcboIksiVFHt",
    "outputId": "99f52422-9edb-479a-d5d9-e33401160da7",
    "papermill": {
     "duration": 0.108007,
     "end_time": "2021-05-06T09:41:39.745030",
     "exception": false,
     "start_time": "2021-05-06T09:41:39.637023",
     "status": "completed"
    },
    "tags": []
   },
   "outputs": [
    {
     "name": "stdout",
     "output_type": "stream",
     "text": [
      "0.0010644044296598304\n"
     ]
    }
   ],
   "source": [
    "mean_katz = float(sum(katz.values())) / len(katz)\n",
    "print(mean_katz)"
   ]
  },
  {
   "cell_type": "markdown",
   "metadata": {
    "id": "SRZqGFgYVFHx",
    "papermill": {
     "duration": 0.092034,
     "end_time": "2021-05-06T09:41:39.929508",
     "exception": false,
     "start_time": "2021-05-06T09:41:39.837474",
     "status": "completed"
    },
    "tags": []
   },
   "source": [
    "## 2.3.6 Hits Score\n",
    "The HITS algorithm computes two numbers for a node. Authorities estimates the node value based on the incoming links. Hubs estimates the node value based on outgoing links.(Note that this algorithm may take a while) For more info: https://en.wikipedia.org/wiki/HITS_algorithm"
   ]
  },
  {
   "cell_type": "code",
   "execution_count": 67,
   "metadata": {
    "execution": {
     "iopub.execute_input": "2021-05-06T09:41:40.125890Z",
     "iopub.status.busy": "2021-05-06T09:41:40.125168Z",
     "iopub.status.idle": "2021-05-06T09:41:40.138288Z",
     "shell.execute_reply": "2021-05-06T09:41:40.138804Z"
    },
    "id": "WXNHRdzUVFHz",
    "papermill": {
     "duration": 0.112429,
     "end_time": "2021-05-06T09:41:40.138931",
     "exception": false,
     "start_time": "2021-05-06T09:41:40.026502",
     "status": "completed"
    },
    "scrolled": true,
    "tags": []
   },
   "outputs": [],
   "source": [
    "if not os.path.isfile('data/fea_sample/hits.p'):\n",
    "    hits = nx.hits(train_graph, max_iter=200, tol=1e-08, nstart=None, normalized=True)\n",
    "    pickle.dump(hits,open('data/fea_sample/hits.p','wb'))\n",
    "else:\n",
    "    hits = pickle.load(open('data/fea_sample/hits.p','rb'))"
   ]
  },
  {
   "cell_type": "code",
   "execution_count": 68,
   "metadata": {
    "execution": {
     "iopub.execute_input": "2021-05-06T09:41:40.330208Z",
     "iopub.status.busy": "2021-05-06T09:41:40.329366Z",
     "iopub.status.idle": "2021-05-06T09:41:40.344014Z",
     "shell.execute_reply": "2021-05-06T09:41:40.343574Z"
    },
    "id": "PSUwSZBVVFH3",
    "outputId": "77448253-5409-4229-f0be-b8dbc14d7f46",
    "papermill": {
     "duration": 0.112208,
     "end_time": "2021-05-06T09:41:40.344128",
     "exception": false,
     "start_time": "2021-05-06T09:41:40.231920",
     "status": "completed"
    },
    "tags": []
   },
   "outputs": [
    {
     "name": "stdout",
     "output_type": "stream",
     "text": [
      "min 0.0\n",
      "max 0.03582118375996806\n",
      "mean 1.133099537128857e-06\n"
     ]
    }
   ],
   "source": [
    "print('min',hits[0][min(hits[0], key=hits[0].get)])\n",
    "print('max',hits[0][max(hits[0], key=hits[0].get)])\n",
    "print('mean',float(sum(hits[0].values())) / len(hits[0]))"
   ]
  },
  {
   "cell_type": "markdown",
   "metadata": {
    "id": "ZZtowOLZVFH6",
    "papermill": {
     "duration": 0.139776,
     "end_time": "2021-05-06T09:41:40.580471",
     "exception": false,
     "start_time": "2021-05-06T09:41:40.440695",
     "status": "completed"
    },
    "tags": []
   },
   "source": [
    "# 3. Featurization\n",
    "The only thing that has to be done now is extracting features with previously defined similarity measures and add them to the nodes in the train and test sets. This will systematically be done in this section. The current training set consists of 2399999 examples (1200000 labeled 0 and 1199999 labeled 1). The test set contains 600000 examples (300000 labeled 0 and 300000 labeled 1). This was determined in section 1.4.2)."
   ]
  },
  {
   "cell_type": "code",
   "execution_count": 72,
   "metadata": {},
   "outputs": [
    {
     "data": {
      "text/plain": [
       "(2399999, 2399999, 600000, 600000)"
      ]
     },
     "execution_count": 72,
     "metadata": {},
     "output_type": "execute_result"
    }
   ],
   "source": [
    "len(X_train), len(y_train), len(X_test), len(y_test)"
   ]
  },
  {
   "cell_type": "code",
   "execution_count": 73,
   "metadata": {},
   "outputs": [],
   "source": [
    "X_train['indicator_link'] = y_train\n",
    "X_test['indicator_link'] = y_test\n"
   ]
  },
  {
   "cell_type": "code",
   "execution_count": 82,
   "metadata": {},
   "outputs": [],
   "source": [
    "df_final_train = X_train\n",
    "df_final_test = X_test\n",
    "#X_test['indicator_link'].value_counts()"
   ]
  },
  {
   "cell_type": "markdown",
   "metadata": {
    "id": "gIaOWDaDVFIJ",
    "papermill": {
     "duration": 0.097185,
     "end_time": "2021-05-06T09:42:20.015666",
     "exception": false,
     "start_time": "2021-05-06T09:42:19.918481",
     "status": "completed"
    },
    "tags": []
   },
   "source": [
    "## 3.1 Adding a set of features\n",
    "Now we will systematically add features.\n",
    "\n",
    "__we will add these features for both train and test data points__\n",
    "<ol>\n",
    "<li>jaccard_followers</li>\n",
    "<li>jaccard_followees</li>\n",
    "<li>cosine_followers</li>\n",
    "<li>cosine_followees</li>\n",
    "<li>num_followers_s</li>\n",
    "<li>num_followees_s</li>\n",
    "<li>num_followers_d</li>\n",
    "<li>num_followees_d</li>\n",
    "<li>inter_followers</li>\n",
    "<li>inter_followees</li>\n",
    "</ol>"
   ]
  },
  {
   "cell_type": "code",
   "execution_count": 83,
   "metadata": {
    "execution": {
     "iopub.execute_input": "2021-05-06T09:42:20.218074Z",
     "iopub.status.busy": "2021-05-06T09:42:20.217457Z",
     "iopub.status.idle": "2021-05-06T09:42:20.851767Z",
     "shell.execute_reply": "2021-05-06T09:42:20.851291Z"
    },
    "id": "2qTkOiBcVFIJ",
    "papermill": {
     "duration": 0.738793,
     "end_time": "2021-05-06T09:42:20.851896",
     "exception": false,
     "start_time": "2021-05-06T09:42:20.113103",
     "status": "completed"
    },
    "tags": []
   },
   "outputs": [],
   "source": [
    "if not os.path.isfile('data/fea_sample/storage_sample_stage1.h5'):\n",
    "    #mapping jaccrd followers to train and test data\n",
    "    df_final_train['jaccard_followers'] = df_final_train.apply(lambda row:\n",
    "                                            jaccard_for_followers(row['source_node'],row['destination_node']),axis=1)\n",
    "    df_final_test['jaccard_followers'] = df_final_test.apply(lambda row:\n",
    "                                            jaccard_for_followers(row['source_node'],row['destination_node']),axis=1)\n",
    "\n",
    "    #mapping jaccrd followees to train and test data\n",
    "    df_final_train['jaccard_followees'] = df_final_train.apply(lambda row:\n",
    "                                            jaccard_for_followees(row['source_node'],row['destination_node']),axis=1)\n",
    "    df_final_test['jaccard_followees'] = df_final_test.apply(lambda row:\n",
    "                                            jaccard_for_followees(row['source_node'],row['destination_node']),axis=1)\n",
    "    \n",
    "\n",
    "        #mapping jaccrd followers to train and test data\n",
    "    df_final_train['cosine_followers'] = df_final_train.apply(lambda row:\n",
    "                                            cosine_for_followers(row['source_node'],row['destination_node']),axis=1)\n",
    "    df_final_test['cosine_followers'] = df_final_test.apply(lambda row:\n",
    "                                            cosine_for_followers(row['source_node'],row['destination_node']),axis=1)\n",
    "\n",
    "    #mapping jaccrd followees to train and test data\n",
    "    df_final_train['cosine_followees'] = df_final_train.apply(lambda row:\n",
    "                                            cosine_for_followees(row['source_node'],row['destination_node']),axis=1)\n",
    "    df_final_test['cosine_followees'] = df_final_test.apply(lambda row:\n",
    "                                            cosine_for_followees(row['source_node'],row['destination_node']),axis=1)\n"
   ]
  },
  {
   "cell_type": "code",
   "execution_count": 84,
   "metadata": {},
   "outputs": [
    {
     "data": {
      "text/html": [
       "<div>\n",
       "<style scoped>\n",
       "    .dataframe tbody tr th:only-of-type {\n",
       "        vertical-align: middle;\n",
       "    }\n",
       "\n",
       "    .dataframe tbody tr th {\n",
       "        vertical-align: top;\n",
       "    }\n",
       "\n",
       "    .dataframe thead th {\n",
       "        text-align: right;\n",
       "    }\n",
       "</style>\n",
       "<table border=\"1\" class=\"dataframe\">\n",
       "  <thead>\n",
       "    <tr style=\"text-align: right;\">\n",
       "      <th></th>\n",
       "      <th>source_node</th>\n",
       "      <th>destination_node</th>\n",
       "      <th>indicator_link</th>\n",
       "      <th>jaccard_followers</th>\n",
       "      <th>jaccard_followees</th>\n",
       "      <th>cosine_followers</th>\n",
       "      <th>cosine_followees</th>\n",
       "    </tr>\n",
       "  </thead>\n",
       "  <tbody>\n",
       "    <tr>\n",
       "      <th>0</th>\n",
       "      <td>143591</td>\n",
       "      <td>78996</td>\n",
       "      <td>1.0</td>\n",
       "      <td>0.000000</td>\n",
       "      <td>0.0</td>\n",
       "      <td>0.000000</td>\n",
       "      <td>0.0</td>\n",
       "    </tr>\n",
       "    <tr>\n",
       "      <th>1</th>\n",
       "      <td>109529</td>\n",
       "      <td>409671</td>\n",
       "      <td>1.0</td>\n",
       "      <td>0.000000</td>\n",
       "      <td>0.0</td>\n",
       "      <td>0.000000</td>\n",
       "      <td>0.0</td>\n",
       "    </tr>\n",
       "    <tr>\n",
       "      <th>2</th>\n",
       "      <td>158489</td>\n",
       "      <td>1766677</td>\n",
       "      <td>1.0</td>\n",
       "      <td>0.000000</td>\n",
       "      <td>0.0</td>\n",
       "      <td>0.000000</td>\n",
       "      <td>0.0</td>\n",
       "    </tr>\n",
       "    <tr>\n",
       "      <th>3</th>\n",
       "      <td>17836</td>\n",
       "      <td>1746118</td>\n",
       "      <td>1.0</td>\n",
       "      <td>0.333333</td>\n",
       "      <td>0.0</td>\n",
       "      <td>0.204124</td>\n",
       "      <td>0.0</td>\n",
       "    </tr>\n",
       "    <tr>\n",
       "      <th>4</th>\n",
       "      <td>185802</td>\n",
       "      <td>1689959</td>\n",
       "      <td>1.0</td>\n",
       "      <td>0.000000</td>\n",
       "      <td>0.0</td>\n",
       "      <td>0.000000</td>\n",
       "      <td>0.0</td>\n",
       "    </tr>\n",
       "    <tr>\n",
       "      <th>...</th>\n",
       "      <td>...</td>\n",
       "      <td>...</td>\n",
       "      <td>...</td>\n",
       "      <td>...</td>\n",
       "      <td>...</td>\n",
       "      <td>...</td>\n",
       "      <td>...</td>\n",
       "    </tr>\n",
       "    <tr>\n",
       "      <th>2399994</th>\n",
       "      <td>1019046</td>\n",
       "      <td>882430</td>\n",
       "      <td>0.0</td>\n",
       "      <td>0.000000</td>\n",
       "      <td>0.0</td>\n",
       "      <td>0.000000</td>\n",
       "      <td>0.0</td>\n",
       "    </tr>\n",
       "    <tr>\n",
       "      <th>2399995</th>\n",
       "      <td>719938</td>\n",
       "      <td>28466</td>\n",
       "      <td>0.0</td>\n",
       "      <td>0.000000</td>\n",
       "      <td>0.0</td>\n",
       "      <td>0.000000</td>\n",
       "      <td>0.0</td>\n",
       "    </tr>\n",
       "    <tr>\n",
       "      <th>2399996</th>\n",
       "      <td>504637</td>\n",
       "      <td>1134117</td>\n",
       "      <td>0.0</td>\n",
       "      <td>0.000000</td>\n",
       "      <td>0.0</td>\n",
       "      <td>0.000000</td>\n",
       "      <td>0.0</td>\n",
       "    </tr>\n",
       "    <tr>\n",
       "      <th>2399997</th>\n",
       "      <td>90832</td>\n",
       "      <td>559530</td>\n",
       "      <td>0.0</td>\n",
       "      <td>0.000000</td>\n",
       "      <td>0.0</td>\n",
       "      <td>0.000000</td>\n",
       "      <td>0.0</td>\n",
       "    </tr>\n",
       "    <tr>\n",
       "      <th>2399998</th>\n",
       "      <td>844257</td>\n",
       "      <td>743223</td>\n",
       "      <td>0.0</td>\n",
       "      <td>0.000000</td>\n",
       "      <td>0.0</td>\n",
       "      <td>0.000000</td>\n",
       "      <td>0.0</td>\n",
       "    </tr>\n",
       "  </tbody>\n",
       "</table>\n",
       "<p>2399999 rows × 7 columns</p>\n",
       "</div>"
      ],
      "text/plain": [
       "         source_node  destination_node  indicator_link  jaccard_followers  \\\n",
       "0             143591             78996             1.0           0.000000   \n",
       "1             109529            409671             1.0           0.000000   \n",
       "2             158489           1766677             1.0           0.000000   \n",
       "3              17836           1746118             1.0           0.333333   \n",
       "4             185802           1689959             1.0           0.000000   \n",
       "...              ...               ...             ...                ...   \n",
       "2399994      1019046            882430             0.0           0.000000   \n",
       "2399995       719938             28466             0.0           0.000000   \n",
       "2399996       504637           1134117             0.0           0.000000   \n",
       "2399997        90832            559530             0.0           0.000000   \n",
       "2399998       844257            743223             0.0           0.000000   \n",
       "\n",
       "         jaccard_followees  cosine_followers  cosine_followees  \n",
       "0                      0.0          0.000000               0.0  \n",
       "1                      0.0          0.000000               0.0  \n",
       "2                      0.0          0.000000               0.0  \n",
       "3                      0.0          0.204124               0.0  \n",
       "4                      0.0          0.000000               0.0  \n",
       "...                    ...               ...               ...  \n",
       "2399994                0.0          0.000000               0.0  \n",
       "2399995                0.0          0.000000               0.0  \n",
       "2399996                0.0          0.000000               0.0  \n",
       "2399997                0.0          0.000000               0.0  \n",
       "2399998                0.0          0.000000               0.0  \n",
       "\n",
       "[2399999 rows x 7 columns]"
      ]
     },
     "execution_count": 84,
     "metadata": {},
     "output_type": "execute_result"
    }
   ],
   "source": [
    "df_final_train"
   ]
  },
  {
   "cell_type": "code",
   "execution_count": 85,
   "metadata": {
    "execution": {
     "iopub.execute_input": "2021-05-06T09:42:21.053422Z",
     "iopub.status.busy": "2021-05-06T09:42:21.052553Z",
     "iopub.status.idle": "2021-05-06T09:42:21.055210Z",
     "shell.execute_reply": "2021-05-06T09:42:21.054802Z"
    },
    "id": "fz2eZpSnVFIL",
    "papermill": {
     "duration": 0.106464,
     "end_time": "2021-05-06T09:42:21.055338",
     "exception": false,
     "start_time": "2021-05-06T09:42:20.948874",
     "status": "completed"
    },
    "tags": []
   },
   "outputs": [],
   "source": [
    "def compute_features_stage1(df_final):\n",
    "    #calculating no of followers followees for source and destination\n",
    "    #calculating intersection of followers and followees for source and destination\n",
    "    num_followers_s=[]\n",
    "    num_followees_s=[]\n",
    "    num_followers_d=[]\n",
    "    num_followees_d=[]\n",
    "    inter_followers=[]\n",
    "    inter_followees=[]\n",
    "    for i,row in df_final.iterrows():\n",
    "        try:\n",
    "            s1=set(train_graph.predecessors(row['source_node']))\n",
    "            s2=set(train_graph.successors(row['source_node']))\n",
    "        except:\n",
    "            s1 = set()\n",
    "            s2 = set()\n",
    "        try:\n",
    "            d1=set(train_graph.predecessors(row['destination_node']))\n",
    "            d2=set(train_graph.successors(row['destination_node']))\n",
    "        except:\n",
    "            d1 = set()\n",
    "            d2 = set()\n",
    "        num_followers_s.append(len(s1))\n",
    "        num_followees_s.append(len(s2))\n",
    "\n",
    "        num_followers_d.append(len(d1))\n",
    "        num_followees_d.append(len(d2))\n",
    "\n",
    "        inter_followers.append(len(s1.intersection(d1)))\n",
    "        inter_followees.append(len(s2.intersection(d2)))\n",
    "    \n",
    "    return num_followers_s, num_followers_d, num_followees_s, num_followees_d, inter_followers, inter_followees"
   ]
  },
  {
   "cell_type": "code",
   "execution_count": 86,
   "metadata": {
    "execution": {
     "iopub.execute_input": "2021-05-06T09:42:21.263902Z",
     "iopub.status.busy": "2021-05-06T09:42:21.258806Z",
     "iopub.status.idle": "2021-05-06T09:42:21.989658Z",
     "shell.execute_reply": "2021-05-06T09:42:21.988875Z"
    },
    "id": "VFc60kcRVFIN",
    "papermill": {
     "duration": 0.838832,
     "end_time": "2021-05-06T09:42:21.989788",
     "exception": false,
     "start_time": "2021-05-06T09:42:21.150956",
     "status": "completed"
    },
    "scrolled": true,
    "tags": []
   },
   "outputs": [],
   "source": [
    "if not os.path.isfile('data/fea_sample/storage_sample_stage1.h5'):\n",
    "    df_final_train['num_followers_s'], df_final_train['num_followers_d'], \\\n",
    "    df_final_train['num_followees_s'], df_final_train['num_followees_d'], \\\n",
    "    df_final_train['inter_followers'], df_final_train['inter_followees']= compute_features_stage1(df_final_train)\n",
    "    \n",
    "    df_final_test['num_followers_s'], df_final_test['num_followers_d'], \\\n",
    "    df_final_test['num_followees_s'], df_final_test['num_followees_d'], \\\n",
    "    df_final_test['inter_followers'], df_final_test['inter_followees']= compute_features_stage1(df_final_test)\n",
    "    \n",
    "    hdf = HDFStore('data/fea_sample/storage_sample_stage1.h5')\n",
    "    hdf.put('train_df',df_final_train, format='table', data_columns=True)\n",
    "    hdf.put('test_df',df_final_test, format='table', data_columns=True)\n",
    "    hdf.close()\n",
    "else:\n",
    "    df_final_train = read_hdf('data/fea_sample/storage_sample_stage1.h5', 'train_df',mode='r')\n",
    "    df_final_test = read_hdf('data/fea_sample/storage_sample_stage1.h5', 'test_df',mode='r')"
   ]
  },
  {
   "cell_type": "markdown",
   "metadata": {
    "id": "go_e8hxxVFIO",
    "papermill": {
     "duration": 0.096795,
     "end_time": "2021-05-06T09:42:22.183895",
     "exception": false,
     "start_time": "2021-05-06T09:42:22.087100",
     "status": "completed"
    },
    "tags": []
   },
   "source": [
    "## 3.2 Adding new set of features\n",
    "\n",
    "__we will add these features for both train and test data points__\n",
    "<ol>\n",
    "<li>adar index</li>\n",
    "<li>is following back</li>\n",
    "<li>belongs to same weakly connect components</li>\n",
    "<li>shortest path between source and destination</li>\n",
    "</ol>"
   ]
  },
  {
   "cell_type": "code",
   "execution_count": 87,
   "metadata": {
    "execution": {
     "iopub.execute_input": "2021-05-06T09:42:22.388059Z",
     "iopub.status.busy": "2021-05-06T09:42:22.387201Z",
     "iopub.status.idle": "2021-05-06T09:42:22.581284Z",
     "shell.execute_reply": "2021-05-06T09:42:22.581817Z"
    },
    "id": "LqB0Peg0VFIP",
    "papermill": {
     "duration": 0.301242,
     "end_time": "2021-05-06T09:42:22.581970",
     "exception": false,
     "start_time": "2021-05-06T09:42:22.280728",
     "status": "completed"
    },
    "tags": []
   },
   "outputs": [],
   "source": [
    "if not os.path.isfile('data/fea_sample/storage_sample_stage2.h5'):\n",
    "    #mapping adar index on train\n",
    "    df_final_train['adar_index'] = df_final_train.apply(lambda row: calc_adar_in(row['source_node'],row['destination_node']),axis=1)\n",
    "    #mapping adar index on test\n",
    "    df_final_test['adar_index'] = df_final_test.apply(lambda row: calc_adar_in(row['source_node'],row['destination_node']),axis=1)\n",
    "\n",
    "    #--------------------------------------------------------------------------------------------------------\n",
    "    #mapping followback or not on train\n",
    "    df_final_train['follows_back'] = df_final_train.apply(lambda row: follows_back(row['source_node'],row['destination_node']),axis=1)\n",
    "\n",
    "    #mapping followback or not on test\n",
    "    df_final_test['follows_back'] = df_final_test.apply(lambda row: follows_back(row['source_node'],row['destination_node']),axis=1)\n",
    "\n",
    "    #--------------------------------------------------------------------------------------------------------\n",
    "    #mapping same component of wcc or not on train\n",
    "    df_final_train['same_comp'] = df_final_train.apply(lambda row: belongs_to_same_wcc(row['source_node'],row['destination_node']),axis=1)\n",
    "\n",
    "    ##mapping same component of wcc or not on train\n",
    "    df_final_test['same_comp'] = df_final_test.apply(lambda row: belongs_to_same_wcc(row['source_node'],row['destination_node']),axis=1)\n",
    "    \n",
    "    #--------------------------------------------------------------------------------------------------------\n",
    "    #mapping shortest path on train \n",
    "    df_final_train['shortest_path'] = df_final_train.apply(lambda row: compute_shortest_path_length(row['source_node'],row['destination_node']),axis=1)\n",
    "    #mapping shortest path on test\n",
    "    df_final_test['shortest_path'] = df_final_test.apply(lambda row: compute_shortest_path_length(row['source_node'],row['destination_node']),axis=1)\n",
    "\n",
    "    hdf = HDFStore('data/fea_sample/storage_sample_stage2.h5')\n",
    "    hdf.put('train_df',df_final_train, format='table', data_columns=True)\n",
    "    hdf.put('test_df',df_final_test, format='table', data_columns=True)\n",
    "    hdf.close()\n",
    "else:\n",
    "    df_final_train = read_hdf('data/fea_sample/storage_sample_stage2.h5', 'train_df',mode='r')\n",
    "    df_final_test = read_hdf('data/fea_sample/storage_sample_stage2.h5', 'test_df',mode='r')"
   ]
  },
  {
   "cell_type": "markdown",
   "metadata": {
    "id": "HJ8Dbma_VFIR",
    "papermill": {
     "duration": 0.09906,
     "end_time": "2021-05-06T09:42:22.778794",
     "exception": false,
     "start_time": "2021-05-06T09:42:22.679734",
     "status": "completed"
    },
    "tags": []
   },
   "source": [
    "## 3.3 Adding new set of features\n",
    "\n",
    "__we will add these features for both train and test data points__\n",
    "<ol>\n",
    "<li>Weight Features\n",
    "    <ul>\n",
    "        <li>weight of incoming edges</li>\n",
    "        <li>weight of outgoing edges</li>\n",
    "        <li>weight of incoming edges + weight of outgoing edges</li>\n",
    "        <li>weight of incoming edges * weight of outgoing edges</li>\n",
    "        <li>2*weight of incoming edges + weight of outgoing edges</li>\n",
    "        <li>weight of incoming edges + 2*weight of outgoing edges</li>\n",
    "    </ul>\n",
    "</li>\n",
    "<li>Page Ranking of source</li>\n",
    "<li>Page Ranking of dest</li>\n",
    "<li>katz of source</li>\n",
    "<li>katz of dest</li>\n",
    "<li>hubs of source</li>\n",
    "<li>hubs of dest</li>\n",
    "<li>authorities_s of source</li>\n",
    "<li>authorities_s of dest</li>\n",
    "</ol>"
   ]
  },
  {
   "cell_type": "markdown",
   "metadata": {
    "id": "iVHI2jtNVFIS",
    "papermill": {
     "duration": 0.096167,
     "end_time": "2021-05-06T09:42:22.973812",
     "exception": false,
     "start_time": "2021-05-06T09:42:22.877645",
     "status": "completed"
    },
    "tags": []
   },
   "source": [
    "#### Weight Features"
   ]
  },
  {
   "cell_type": "markdown",
   "metadata": {
    "id": "rXmUYF9FVFIT",
    "papermill": {
     "duration": 0.096309,
     "end_time": "2021-05-06T09:42:23.166707",
     "exception": false,
     "start_time": "2021-05-06T09:42:23.070398",
     "status": "completed"
    },
    "tags": []
   },
   "source": [
    "In order to determine the similarity of nodes, an edge weight value was calculated between nodes. Edge weight decreases as the neighbor count goes up. Intuitively, consider one million people following a celebrity on a social network then chances are most of them never met each other or the celebrity. On the other hand, if a user has 30 contacts in his/her social network, the chances are higher that many of them know each other. \n",
    "`credit` - Graph-based Features for Supervised Link Prediction\n",
    "William Cukierski, Benjamin Hamner, Bo Yang"
   ]
  },
  {
   "cell_type": "markdown",
   "metadata": {
    "id": "Qzbs2no7VFIV",
    "papermill": {
     "duration": 0.095571,
     "end_time": "2021-05-06T09:42:23.358851",
     "exception": false,
     "start_time": "2021-05-06T09:42:23.263280",
     "status": "completed"
    },
    "tags": []
   },
   "source": [
    "\\begin{equation}\n",
    "W = \\frac{1}{\\sqrt{1+|X|}}\n",
    "\\end{equation}"
   ]
  },
  {
   "cell_type": "markdown",
   "metadata": {
    "id": "kkzUPrWaVFIV",
    "papermill": {
     "duration": 0.098284,
     "end_time": "2021-05-06T09:42:23.553014",
     "exception": false,
     "start_time": "2021-05-06T09:42:23.454730",
     "status": "completed"
    },
    "tags": []
   },
   "source": [
    "It is a directed graph so calculated Weighted in and Weighted out differently"
   ]
  },
  {
   "cell_type": "code",
   "execution_count": 88,
   "metadata": {
    "execution": {
     "iopub.execute_input": "2021-05-06T09:42:23.761919Z",
     "iopub.status.busy": "2021-05-06T09:42:23.761286Z",
     "iopub.status.idle": "2021-05-06T09:42:23.764664Z",
     "shell.execute_reply": "2021-05-06T09:42:23.764202Z"
    },
    "id": "FgNMzzTbVFIW",
    "outputId": "7e8e6d88-8bd6-45f6-f80e-82b093c18974",
    "papermill": {
     "duration": 0.115885,
     "end_time": "2021-05-06T09:42:23.764774",
     "exception": false,
     "start_time": "2021-05-06T09:42:23.648889",
     "status": "completed"
    },
    "scrolled": true,
    "tags": []
   },
   "outputs": [
    {
     "name": "stderr",
     "output_type": "stream",
     "text": [
      "100%|██████████| 882535/882535 [00:06<00:00, 126179.38it/s]\n"
     ]
    }
   ],
   "source": [
    "#weight for source and destination of each link\n",
    "Weight_in = {}\n",
    "Weight_out = {}\n",
    "for i in  tqdm(train_graph.nodes()):\n",
    "    s1=set(train_graph.predecessors(i))\n",
    "    w_in = 1.0/(np.sqrt(1+len(s1)))\n",
    "    Weight_in[i]=w_in\n",
    "    \n",
    "    s2=set(train_graph.successors(i))\n",
    "    w_out = 1.0/(np.sqrt(1+len(s2)))\n",
    "    Weight_out[i]=w_out\n",
    "    \n",
    "#for imputing with mean\n",
    "mean_weight_in = np.mean(list(Weight_in.values()))\n",
    "mean_weight_out = np.mean(list(Weight_out.values()))"
   ]
  },
  {
   "cell_type": "code",
   "execution_count": 90,
   "metadata": {
    "execution": {
     "iopub.execute_input": "2021-05-06T09:42:23.978359Z",
     "iopub.status.busy": "2021-05-06T09:42:23.977634Z",
     "iopub.status.idle": "2021-05-06T09:42:24.002735Z",
     "shell.execute_reply": "2021-05-06T09:42:24.003285Z"
    },
    "id": "AF4yPhIOVFIY",
    "papermill": {
     "duration": 0.141605,
     "end_time": "2021-05-06T09:42:24.003431",
     "exception": false,
     "start_time": "2021-05-06T09:42:23.861826",
     "status": "completed"
    },
    "tags": []
   },
   "outputs": [],
   "source": [
    "if not os.path.isfile('data/fea_sample/storage_sample_stage3.h5'):\n",
    "    #mapping to pandas train\n",
    "    df_final_train['weight_in'] = df_final_train.destination_node.apply(lambda x: Weight_in.get(x,mean_weight_in))\n",
    "    df_final_train['weight_out'] = df_final_train.source_node.apply(lambda x: Weight_out.get(x,mean_weight_out))\n",
    "\n",
    "    #mapping to pandas test\n",
    "    df_final_test['weight_in'] = df_final_test.destination_node.apply(lambda x: Weight_in.get(x,mean_weight_in))\n",
    "    df_final_test['weight_out'] = df_final_test.source_node.apply(lambda x: Weight_out.get(x,mean_weight_out))\n",
    "\n",
    "\n",
    "    #some features engineerings on the in and out weights\n",
    "    df_final_train['weight_f1'] = df_final_train.weight_in + df_final_train.weight_out\n",
    "    df_final_train['weight_f2'] = df_final_train.weight_in * df_final_train.weight_out\n",
    "    df_final_train['weight_f3'] = (2*df_final_train.weight_in + 1*df_final_train.weight_out)\n",
    "    df_final_train['weight_f4'] = (1*df_final_train.weight_in + 2*df_final_train.weight_out)\n",
    "\n",
    "    #some features engineerings on the in and out weights\n",
    "    df_final_test['weight_f1'] = df_final_test.weight_in + df_final_test.weight_out\n",
    "    df_final_test['weight_f2'] = df_final_test.weight_in * df_final_test.weight_out\n",
    "    df_final_test['weight_f3'] = (2*df_final_test.weight_in + 1*df_final_test.weight_out)\n",
    "    df_final_test['weight_f4'] = (1*df_final_test.weight_in + 2*df_final_test.weight_out)"
   ]
  },
  {
   "cell_type": "code",
   "execution_count": 91,
   "metadata": {
    "execution": {
     "iopub.execute_input": "2021-05-06T09:42:24.234060Z",
     "iopub.status.busy": "2021-05-06T09:42:24.233237Z",
     "iopub.status.idle": "2021-05-06T09:42:24.242474Z",
     "shell.execute_reply": "2021-05-06T09:42:24.242971Z"
    },
    "id": "uhxzhQ9aVFIa",
    "papermill": {
     "duration": 0.13978,
     "end_time": "2021-05-06T09:42:24.243102",
     "exception": false,
     "start_time": "2021-05-06T09:42:24.103322",
     "status": "completed"
    },
    "tags": []
   },
   "outputs": [],
   "source": [
    "if not os.path.isfile('data/fea_sample/storage_sample_stage3.h5'):\n",
    "    \n",
    "    #page rank for source and destination in Train and Test\n",
    "    #if anything not there in train graph then adding mean page rank \n",
    "    df_final_train['page_rank_s'] = df_final_train.source_node.apply(lambda x:pr.get(x,mean_pr))\n",
    "    df_final_train['page_rank_d'] = df_final_train.destination_node.apply(lambda x:pr.get(x,mean_pr))\n",
    "\n",
    "    df_final_test['page_rank_s'] = df_final_test.source_node.apply(lambda x:pr.get(x,mean_pr))\n",
    "    df_final_test['page_rank_d'] = df_final_test.destination_node.apply(lambda x:pr.get(x,mean_pr))\n",
    "    #================================================================================\n",
    "\n",
    "    #Katz centrality score for source and destination in Train and test\n",
    "    #if anything not there in train graph then adding mean katz score\n",
    "    df_final_train['katz_s'] = df_final_train.source_node.apply(lambda x: katz.get(x,mean_katz))\n",
    "    df_final_train['katz_d'] = df_final_train.destination_node.apply(lambda x: katz.get(x,mean_katz))\n",
    "\n",
    "    df_final_test['katz_s'] = df_final_test.source_node.apply(lambda x: katz.get(x,mean_katz))\n",
    "    df_final_test['katz_d'] = df_final_test.destination_node.apply(lambda x: katz.get(x,mean_katz))\n",
    "    #================================================================================\n",
    "\n",
    "    #Hits algorithm score for source and destination in Train and test\n",
    "    #if anything not there in train graph then adding 0\n",
    "    df_final_train['hubs_s'] = df_final_train.source_node.apply(lambda x: hits[0].get(x,0))\n",
    "    df_final_train['hubs_d'] = df_final_train.destination_node.apply(lambda x: hits[0].get(x,0))\n",
    "\n",
    "    df_final_test['hubs_s'] = df_final_test.source_node.apply(lambda x: hits[0].get(x,0))\n",
    "    df_final_test['hubs_d'] = df_final_test.destination_node.apply(lambda x: hits[0].get(x,0))\n",
    "    #================================================================================\n",
    "\n",
    "    #Hits algorithm score for source and destination in Train and Test\n",
    "    #if anything not there in train graph then adding 0\n",
    "    df_final_train['authorities_s'] = df_final_train.source_node.apply(lambda x: hits[1].get(x,0))\n",
    "    df_final_train['authorities_d'] = df_final_train.destination_node.apply(lambda x: hits[1].get(x,0))\n",
    "\n",
    "    df_final_test['authorities_s'] = df_final_test.source_node.apply(lambda x: hits[1].get(x,0))\n",
    "    df_final_test['authorities_d'] = df_final_test.destination_node.apply(lambda x: hits[1].get(x,0))\n",
    "    #================================================================================\n",
    "\n",
    "    hdf = HDFStore('data/fea_sample/storage_sample_stage3.h5')\n",
    "    hdf.put('train_df',df_final_train, format='table', data_columns=True)\n",
    "    hdf.put('test_df',df_final_test, format='table', data_columns=True)\n",
    "    hdf.close()\n",
    "else:\n",
    "    df_final_train = read_hdf('data/fea_sample/storage_sample_stage3.h5', 'train_df',mode='r')\n",
    "    df_final_test = read_hdf('data/fea_sample/storage_sample_stage3.h5', 'test_df',mode='r')"
   ]
  },
  {
   "cell_type": "markdown",
   "metadata": {
    "id": "p6xkDfD-VFIb",
    "papermill": {
     "duration": 0.097321,
     "end_time": "2021-05-06T09:42:24.437745",
     "exception": false,
     "start_time": "2021-05-06T09:42:24.340424",
     "status": "completed"
    },
    "tags": []
   },
   "source": [
    "## 3.4 Adding new set of features\n",
    "\n",
    "__The next feature we add for both train and test data points is the following:__\n",
    "<ol>\n",
    "<li>SVD features for both source and destination</li>\n",
    "</ol>"
   ]
  },
  {
   "cell_type": "code",
   "execution_count": 92,
   "metadata": {
    "execution": {
     "iopub.execute_input": "2021-05-06T09:42:24.735439Z",
     "iopub.status.busy": "2021-05-06T09:42:24.734640Z",
     "iopub.status.idle": "2021-05-06T09:42:24.736793Z",
     "shell.execute_reply": "2021-05-06T09:42:24.737347Z"
    },
    "id": "WQO6E65eVFIc",
    "papermill": {
     "duration": 0.168949,
     "end_time": "2021-05-06T09:42:24.737531",
     "exception": false,
     "start_time": "2021-05-06T09:42:24.568582",
     "status": "completed"
    },
    "tags": []
   },
   "outputs": [],
   "source": [
    "def svd(x, S):\n",
    "    try:\n",
    "        z = sadj_dict[x]\n",
    "        return S[z]\n",
    "    except:\n",
    "        return [0,0,0,0,0,0]"
   ]
  },
  {
   "cell_type": "code",
   "execution_count": 93,
   "metadata": {
    "execution": {
     "iopub.execute_input": "2021-05-06T09:42:25.114806Z",
     "iopub.status.busy": "2021-05-06T09:42:25.113947Z",
     "iopub.status.idle": "2021-05-06T09:42:25.120835Z",
     "shell.execute_reply": "2021-05-06T09:42:25.121941Z"
    },
    "id": "9sOyLwvNVFId",
    "papermill": {
     "duration": 0.224457,
     "end_time": "2021-05-06T09:42:25.122148",
     "exception": false,
     "start_time": "2021-05-06T09:42:24.897691",
     "status": "completed"
    },
    "tags": []
   },
   "outputs": [],
   "source": [
    "#for svd features to get feature vector creating a dict node val and inedx in svd vector\n",
    "sadj_col = sorted(train_graph.nodes())\n",
    "sadj_dict = { val:idx for idx,val in enumerate(sadj_col)}"
   ]
  },
  {
   "cell_type": "code",
   "execution_count": 94,
   "metadata": {
    "execution": {
     "iopub.execute_input": "2021-05-06T09:42:25.449358Z",
     "iopub.status.busy": "2021-05-06T09:42:25.448722Z",
     "iopub.status.idle": "2021-05-06T09:42:25.458916Z",
     "shell.execute_reply": "2021-05-06T09:42:25.459712Z"
    },
    "id": "zLSt8fGVVFIg",
    "papermill": {
     "duration": 0.18973,
     "end_time": "2021-05-06T09:42:25.459847",
     "exception": false,
     "start_time": "2021-05-06T09:42:25.270117",
     "status": "completed"
    },
    "tags": []
   },
   "outputs": [],
   "source": [
    "Adj = nx.adjacency_matrix(train_graph,nodelist=sorted(train_graph.nodes())).asfptype()"
   ]
  },
  {
   "cell_type": "code",
   "execution_count": 95,
   "metadata": {
    "execution": {
     "iopub.execute_input": "2021-05-06T09:42:25.770140Z",
     "iopub.status.busy": "2021-05-06T09:42:25.760232Z",
     "iopub.status.idle": "2021-05-06T09:42:25.773907Z",
     "shell.execute_reply": "2021-05-06T09:42:25.773479Z"
    },
    "id": "soq-VAHlVFIh",
    "outputId": "3f9bfb32-004f-4698-e415-469243250130",
    "papermill": {
     "duration": 0.165688,
     "end_time": "2021-05-06T09:42:25.774015",
     "exception": false,
     "start_time": "2021-05-06T09:42:25.608327",
     "status": "completed"
    },
    "tags": []
   },
   "outputs": [
    {
     "name": "stdout",
     "output_type": "stream",
     "text": [
      "Adjacency matrix Shape (882535, 882535)\n",
      "U Shape (882535, 6)\n",
      "V Shape (6, 882535)\n",
      "s Shape (6,)\n"
     ]
    }
   ],
   "source": [
    "U, s, V = svds(Adj, k = 6)\n",
    "print('Adjacency matrix Shape',Adj.shape)\n",
    "print('U Shape',U.shape)\n",
    "print('V Shape',V.shape)\n",
    "print('s Shape',s.shape)"
   ]
  },
  {
   "cell_type": "code",
   "execution_count": 96,
   "metadata": {
    "execution": {
     "iopub.execute_input": "2021-05-06T09:42:25.995871Z",
     "iopub.status.busy": "2021-05-06T09:42:25.995087Z",
     "iopub.status.idle": "2021-05-06T09:42:26.016128Z",
     "shell.execute_reply": "2021-05-06T09:42:26.015666Z"
    },
    "id": "ls5fqLFhVFIm",
    "papermill": {
     "duration": 0.142337,
     "end_time": "2021-05-06T09:42:26.016244",
     "exception": false,
     "start_time": "2021-05-06T09:42:25.873907",
     "status": "completed"
    },
    "tags": []
   },
   "outputs": [],
   "source": [
    "if not os.path.isfile('data/fea_sample/storage_sample_stage4.h5'):\n",
    "    #===================================================================================================\n",
    "    \n",
    "    df_final_train[['svd_u_s_1', 'svd_u_s_2','svd_u_s_3', 'svd_u_s_4', 'svd_u_s_5', 'svd_u_s_6']] = \\\n",
    "    df_final_train.source_node.apply(lambda x: svd(x, U)).apply(pd.Series)\n",
    "    \n",
    "    df_final_train[['svd_u_d_1', 'svd_u_d_2', 'svd_u_d_3', 'svd_u_d_4', 'svd_u_d_5','svd_u_d_6']] = \\\n",
    "    df_final_train.destination_node.apply(lambda x: svd(x, U)).apply(pd.Series)\n",
    "    #===================================================================================================\n",
    "    \n",
    "    df_final_train[['svd_v_s_1','svd_v_s_2', 'svd_v_s_3', 'svd_v_s_4', 'svd_v_s_5', 'svd_v_s_6',]] = \\\n",
    "    df_final_train.source_node.apply(lambda x: svd(x, V.T)).apply(pd.Series)\n",
    "\n",
    "    df_final_train[['svd_v_d_1', 'svd_v_d_2', 'svd_v_d_3', 'svd_v_d_4', 'svd_v_d_5','svd_v_d_6']] = \\\n",
    "    df_final_train.destination_node.apply(lambda x: svd(x, V.T)).apply(pd.Series)\n",
    "    #===================================================================================================\n",
    "    \n",
    "    df_final_test[['svd_u_s_1', 'svd_u_s_2','svd_u_s_3', 'svd_u_s_4', 'svd_u_s_5', 'svd_u_s_6']] = \\\n",
    "    df_final_test.source_node.apply(lambda x: svd(x, U)).apply(pd.Series)\n",
    "    \n",
    "    df_final_test[['svd_u_d_1', 'svd_u_d_2', 'svd_u_d_3', 'svd_u_d_4', 'svd_u_d_5','svd_u_d_6']] = \\\n",
    "    df_final_test.destination_node.apply(lambda x: svd(x, U)).apply(pd.Series)\n",
    "\n",
    "    #===================================================================================================\n",
    "    \n",
    "    df_final_test[['svd_v_s_1','svd_v_s_2', 'svd_v_s_3', 'svd_v_s_4', 'svd_v_s_5', 'svd_v_s_6',]] = \\\n",
    "    df_final_test.source_node.apply(lambda x: svd(x, V.T)).apply(pd.Series)\n",
    "\n",
    "    df_final_test[['svd_v_d_1', 'svd_v_d_2', 'svd_v_d_3', 'svd_v_d_4', 'svd_v_d_5','svd_v_d_6']] = \\\n",
    "    df_final_test.destination_node.apply(lambda x: svd(x, V.T)).apply(pd.Series)\n",
    "    #===================================================================================================\n",
    "\n",
    "    hdf = HDFStore('data/fea_sample/storage_sample_stage4.h5')\n",
    "    hdf.put('train_df',df_final_train, format='table', data_columns=True)\n",
    "    hdf.put('test_df',df_final_test, format='table', data_columns=True)\n",
    "    hdf.close()"
   ]
  },
  {
   "cell_type": "code",
   "execution_count": 97,
   "metadata": {
    "scrolled": true
   },
   "outputs": [],
   "source": [
    "train_nodes = df_final_train[['source_node', 'destination_node']]\n",
    "train_nodes.to_csv('./train_nodes.csv',header=False,index=False)"
   ]
  },
  {
   "cell_type": "code",
   "execution_count": 98,
   "metadata": {},
   "outputs": [],
   "source": [
    "test_nodes = df_final_test[['source_node', 'destination_node']]\n",
    "test_nodes.to_csv('./test_nodes.csv',header=False,index=False)"
   ]
  },
  {
   "cell_type": "markdown",
   "metadata": {
    "papermill": {
     "duration": 0.099435,
     "end_time": "2021-05-06T09:42:26.216227",
     "exception": false,
     "start_time": "2021-05-06T09:42:26.116792",
     "status": "completed"
    },
    "tags": []
   },
   "source": [
    "# 3.5 Graph embedding"
   ]
  },
  {
   "cell_type": "markdown",
   "metadata": {
    "papermill": {
     "duration": 0.099146,
     "end_time": "2021-05-06T09:42:26.415280",
     "exception": false,
     "start_time": "2021-05-06T09:42:26.316134",
     "status": "completed"
    },
    "tags": []
   },
   "source": [
    "Graph embedding is an approach that is used to transform nodes, edges, and their features into vector space (a lower dimension) whilst maximally preserving properties like graph structure and information. There are several approaches that are commonly used in Graph Embedding. We have selected Node2Vec as we believe it fits the characteristics of our dataset.\n",
    "\n",
    "Node2vec features a walk bias variable α, which is parameterized by p and q. The parameter p prioritizes a breadth-first-search (BFS) procedure, while the parameter q prioritizes a depth-first-search (DFS) procedure. The decision of where to walk next is therefore influenced by probabilities 1/p or 1/q.\n",
    "\n",
    "For more info: https://towardsdatascience.com/overview-of-deep-learning-on-graph-embeddings-4305c10ad4a4#\n",
    "\n",
    "Note, in the following code we create two embeddings: one for the train graph (this is used to train the classifier). To test the model, we need to create an independent embedding of the test graph. The node2vec implementation of the following library is used: https://github.com/eliorc/node2vec . The graph embedding will consist of 10 dimensions and a walk lenght of 10 is used in the random walks."
   ]
  },
  {
   "cell_type": "code",
   "execution_count": 99,
   "metadata": {
    "execution": {
     "iopub.execute_input": "2021-05-06T09:42:29.156813Z",
     "iopub.status.busy": "2021-05-06T09:42:28.099754Z",
     "iopub.status.idle": "2021-05-06T09:42:34.444889Z",
     "shell.execute_reply": "2021-05-06T09:42:34.445467Z"
    },
    "papermill": {
     "duration": 7.93085,
     "end_time": "2021-05-06T09:42:34.445666",
     "exception": false,
     "start_time": "2021-05-06T09:42:26.514816",
     "status": "completed"
    },
    "tags": []
   },
   "outputs": [
    {
     "name": "stdout",
     "output_type": "stream",
     "text": [
      "Name: \n",
      "Type: DiGraph\n",
      "Number of nodes: 1456542\n",
      "Number of edges: 2399999\n",
      "Average in degree:   1.6477\n",
      "Average out degree:   1.6477\n",
      "Name: \n",
      "Type: DiGraph\n",
      "Number of nodes: 737582\n",
      "Number of edges: 600000\n",
      "Average in degree:   0.8135\n",
      "Average out degree:   0.8135\n"
     ]
    }
   ],
   "source": [
    "subgraph_for_embedding=nx.read_edgelist('train_nodes.csv',delimiter=',',create_using=nx.DiGraph(),nodetype=int)\n",
    "print(nx.info(subgraph_for_embedding))   \n",
    "\n",
    "subgraph2_for_embedding=nx.read_edgelist('test_nodes.csv',delimiter=',',create_using=nx.DiGraph(),nodetype=int)\n",
    "print(nx.info(subgraph2_for_embedding))   "
   ]
  },
  {
   "cell_type": "code",
   "execution_count": 100,
   "metadata": {
    "execution": {
     "iopub.execute_input": "2021-05-06T09:42:44.415905Z",
     "iopub.status.busy": "2021-05-06T09:42:44.415160Z",
     "iopub.status.idle": "2021-05-06T09:45:44.808729Z",
     "shell.execute_reply": "2021-05-06T09:45:44.808190Z"
    },
    "papermill": {
     "duration": 180.501243,
     "end_time": "2021-05-06T09:45:44.808859",
     "exception": false,
     "start_time": "2021-05-06T09:42:44.307616",
     "status": "completed"
    },
    "scrolled": false,
    "tags": []
   },
   "outputs": [
    {
     "data": {
      "application/vnd.jupyter.widget-view+json": {
       "model_id": "3e5c692b07004270ba3ea79ea04ae651",
       "version_major": 2,
       "version_minor": 0
      },
      "text/plain": [
       "HBox(children=(HTML(value='Computing transition probabilities'), FloatProgress(value=0.0, max=1456542.0), HTML…"
      ]
     },
     "metadata": {},
     "output_type": "display_data"
    },
    {
     "name": "stderr",
     "output_type": "stream",
     "text": [
      "\r",
      "Generating walks (CPU: 1):   0%|          | 0/10 [00:00<?, ?it/s]"
     ]
    },
    {
     "name": "stdout",
     "output_type": "stream",
     "text": [
      "\n"
     ]
    },
    {
     "name": "stderr",
     "output_type": "stream",
     "text": [
      "Generating walks (CPU: 1): 100%|██████████| 10/10 [40:15<00:00, 241.55s/it]\n"
     ]
    }
   ],
   "source": [
    "from node2vec import Node2Vec\n",
    "# Generate walks\n",
    "node2vec = Node2Vec(subgraph_for_embedding, dimensions=10, walk_length=8, num_walks=10)\n",
    "# Learn embeddings \n",
    "model1 = node2vec.fit(window=5, min_count=1)\n"
   ]
  },
  {
   "cell_type": "code",
   "execution_count": 101,
   "metadata": {},
   "outputs": [
    {
     "data": {
      "application/vnd.jupyter.widget-view+json": {
       "model_id": "c32dbf53e5814cf880679119b88b4311",
       "version_major": 2,
       "version_minor": 0
      },
      "text/plain": [
       "HBox(children=(HTML(value='Computing transition probabilities'), FloatProgress(value=0.0, max=737582.0), HTML(…"
      ]
     },
     "metadata": {},
     "output_type": "display_data"
    },
    {
     "name": "stderr",
     "output_type": "stream",
     "text": [
      "\r",
      "Generating walks (CPU: 1):   0%|          | 0/10 [00:00<?, ?it/s]"
     ]
    },
    {
     "name": "stdout",
     "output_type": "stream",
     "text": [
      "\n"
     ]
    },
    {
     "name": "stderr",
     "output_type": "stream",
     "text": [
      "Generating walks (CPU: 1): 100%|██████████| 10/10 [16:36<00:00, 99.67s/it]\n"
     ]
    }
   ],
   "source": [
    "node2vec2 = Node2Vec(subgraph2_for_embedding, dimensions=10, walk_length=8, num_walks=10)\n",
    "# Learn embeddings \n",
    "model2 = node2vec2.fit(window=5, min_count=1)"
   ]
  },
  {
   "cell_type": "code",
   "execution_count": 102,
   "metadata": {
    "execution": {
     "iopub.execute_input": "2021-05-06T09:45:45.028544Z",
     "iopub.status.busy": "2021-05-06T09:45:45.026898Z",
     "iopub.status.idle": "2021-05-06T09:45:45.029458Z",
     "shell.execute_reply": "2021-05-06T09:45:45.029901Z"
    },
    "id": "0-hBtlkzVFIn",
    "papermill": {
     "duration": 0.112992,
     "end_time": "2021-05-06T09:45:45.030036",
     "exception": false,
     "start_time": "2021-05-06T09:45:44.917044",
     "status": "completed"
    },
    "tags": []
   },
   "outputs": [],
   "source": [
    "train_emb = []\n",
    "test_emb = []\n",
    "\n",
    "    \n",
    "for ele in df_final_train['source_node']:\n",
    "    try:\n",
    "        train_emb.append(model1.wv[ele])\n",
    "    except:\n",
    "        train_emb.append(np.zeros(10))\n",
    "    \n",
    "for ele in df_final_test['source_node']:\n",
    "    try:\n",
    "        test_emb.append(model2.wv[ele])\n",
    "    except:\n",
    "        test_emb.append(np.zeros(10))"
   ]
  },
  {
   "cell_type": "code",
   "execution_count": 103,
   "metadata": {},
   "outputs": [],
   "source": [
    "train_em = pd.DataFrame(train_emb)\n",
    "test_em = pd.DataFrame(test_emb)"
   ]
  },
  {
   "cell_type": "code",
   "execution_count": 104,
   "metadata": {},
   "outputs": [],
   "source": [
    "train_full = pd.concat([df_final_train, train_em], axis=1, join=\"inner\")\n",
    "test_full = pd.concat([df_final_test, test_em], axis=1, join=\"inner\")"
   ]
  },
  {
   "cell_type": "code",
   "execution_count": 105,
   "metadata": {},
   "outputs": [],
   "source": [
    "hdf = HDFStore('data/fea_sample/storage_sample_stage5.h5')\n",
    "hdf.put('train_df',train_full, data_columns=True)\n",
    "hdf.put('test_df',test_full, data_columns=True)\n",
    "hdf.close()"
   ]
  },
  {
   "cell_type": "code",
   "execution_count": 106,
   "metadata": {},
   "outputs": [],
   "source": [
    "from pandas import read_hdf\n",
    "df_final_train = read_hdf('data/fea_sample/storage_sample_stage5.h5', 'train_df',mode='r+')\n",
    "df_final_test = read_hdf('data/fea_sample/storage_sample_stage5.h5', 'test_df',mode='r+')"
   ]
  },
  {
   "cell_type": "markdown",
   "metadata": {},
   "source": [
    "The following summarizes all the extracted features for all nodes (the columns of df_final_train). Note that it is this matrix that requires a lot of memory because of the large amount of nodes."
   ]
  },
  {
   "cell_type": "code",
   "execution_count": 107,
   "metadata": {},
   "outputs": [
    {
     "data": {
      "text/plain": [
       "Index([      'source_node',  'destination_node',    'indicator_link',\n",
       "       'jaccard_followers', 'jaccard_followees',  'cosine_followers',\n",
       "        'cosine_followees',   'num_followers_s',   'num_followers_d',\n",
       "         'num_followees_s',   'num_followees_d',   'inter_followers',\n",
       "         'inter_followees',        'adar_index',      'follows_back',\n",
       "               'same_comp',     'shortest_path',         'weight_in',\n",
       "              'weight_out',         'weight_f1',         'weight_f2',\n",
       "               'weight_f3',         'weight_f4',       'page_rank_s',\n",
       "             'page_rank_d',            'katz_s',            'katz_d',\n",
       "                  'hubs_s',            'hubs_d',     'authorities_s',\n",
       "           'authorities_d',                   0,                   1,\n",
       "                         2,                   3,                   4,\n",
       "                         5,                   6,                   7,\n",
       "                         8,                   9],\n",
       "      dtype='object')"
      ]
     },
     "execution_count": 107,
     "metadata": {},
     "output_type": "execute_result"
    }
   ],
   "source": [
    "df_final_train.columns"
   ]
  },
  {
   "cell_type": "code",
   "execution_count": 108,
   "metadata": {},
   "outputs": [],
   "source": [
    "y_train = df_final_train.indicator_link\n",
    "y_test = df_final_test.indicator_link"
   ]
  },
  {
   "cell_type": "code",
   "execution_count": 109,
   "metadata": {},
   "outputs": [],
   "source": [
    "df_final_train.drop(['source_node', 'destination_node','indicator_link'],axis=1,inplace=True)\n",
    "df_final_test.drop(['source_node', 'destination_node','indicator_link'],axis=1,inplace=True)"
   ]
  },
  {
   "cell_type": "markdown",
   "metadata": {},
   "source": [
    "The following code produces the head of the df_final_train. Note the last 10 columns which are the extracted node2vec features of every node."
   ]
  },
  {
   "cell_type": "code",
   "execution_count": 110,
   "metadata": {
    "scrolled": true
   },
   "outputs": [
    {
     "data": {
      "text/html": [
       "<div>\n",
       "<style scoped>\n",
       "    .dataframe tbody tr th:only-of-type {\n",
       "        vertical-align: middle;\n",
       "    }\n",
       "\n",
       "    .dataframe tbody tr th {\n",
       "        vertical-align: top;\n",
       "    }\n",
       "\n",
       "    .dataframe thead th {\n",
       "        text-align: right;\n",
       "    }\n",
       "</style>\n",
       "<table border=\"1\" class=\"dataframe\">\n",
       "  <thead>\n",
       "    <tr style=\"text-align: right;\">\n",
       "      <th></th>\n",
       "      <th>jaccard_followers</th>\n",
       "      <th>jaccard_followees</th>\n",
       "      <th>cosine_followers</th>\n",
       "      <th>cosine_followees</th>\n",
       "      <th>num_followers_s</th>\n",
       "      <th>num_followers_d</th>\n",
       "      <th>num_followees_s</th>\n",
       "      <th>num_followees_d</th>\n",
       "      <th>inter_followers</th>\n",
       "      <th>inter_followees</th>\n",
       "      <th>...</th>\n",
       "      <th>0</th>\n",
       "      <th>1</th>\n",
       "      <th>2</th>\n",
       "      <th>3</th>\n",
       "      <th>4</th>\n",
       "      <th>5</th>\n",
       "      <th>6</th>\n",
       "      <th>7</th>\n",
       "      <th>8</th>\n",
       "      <th>9</th>\n",
       "    </tr>\n",
       "  </thead>\n",
       "  <tbody>\n",
       "    <tr>\n",
       "      <th>0</th>\n",
       "      <td>0.000000</td>\n",
       "      <td>0.0</td>\n",
       "      <td>0.000000</td>\n",
       "      <td>0.0</td>\n",
       "      <td>5</td>\n",
       "      <td>2</td>\n",
       "      <td>241</td>\n",
       "      <td>8</td>\n",
       "      <td>0</td>\n",
       "      <td>0</td>\n",
       "      <td>...</td>\n",
       "      <td>0.021382</td>\n",
       "      <td>-1.240920</td>\n",
       "      <td>-0.673099</td>\n",
       "      <td>0.404840</td>\n",
       "      <td>0.549191</td>\n",
       "      <td>-0.389357</td>\n",
       "      <td>-0.262482</td>\n",
       "      <td>0.270091</td>\n",
       "      <td>-0.738968</td>\n",
       "      <td>-0.054119</td>\n",
       "    </tr>\n",
       "    <tr>\n",
       "      <th>1</th>\n",
       "      <td>0.000000</td>\n",
       "      <td>0.0</td>\n",
       "      <td>0.000000</td>\n",
       "      <td>0.0</td>\n",
       "      <td>0</td>\n",
       "      <td>1</td>\n",
       "      <td>2</td>\n",
       "      <td>0</td>\n",
       "      <td>0</td>\n",
       "      <td>0</td>\n",
       "      <td>...</td>\n",
       "      <td>-0.664207</td>\n",
       "      <td>-1.356856</td>\n",
       "      <td>-0.075970</td>\n",
       "      <td>-0.667520</td>\n",
       "      <td>0.844451</td>\n",
       "      <td>-1.265052</td>\n",
       "      <td>-0.859328</td>\n",
       "      <td>-0.380905</td>\n",
       "      <td>-1.711755</td>\n",
       "      <td>1.250844</td>\n",
       "    </tr>\n",
       "    <tr>\n",
       "      <th>2</th>\n",
       "      <td>0.000000</td>\n",
       "      <td>0.0</td>\n",
       "      <td>0.000000</td>\n",
       "      <td>0.0</td>\n",
       "      <td>0</td>\n",
       "      <td>2</td>\n",
       "      <td>5</td>\n",
       "      <td>0</td>\n",
       "      <td>0</td>\n",
       "      <td>0</td>\n",
       "      <td>...</td>\n",
       "      <td>0.186369</td>\n",
       "      <td>-0.672336</td>\n",
       "      <td>-0.279649</td>\n",
       "      <td>0.253951</td>\n",
       "      <td>0.254500</td>\n",
       "      <td>-0.504595</td>\n",
       "      <td>-0.032917</td>\n",
       "      <td>0.072711</td>\n",
       "      <td>-0.478684</td>\n",
       "      <td>0.117394</td>\n",
       "    </tr>\n",
       "    <tr>\n",
       "      <th>3</th>\n",
       "      <td>0.333333</td>\n",
       "      <td>0.0</td>\n",
       "      <td>0.204124</td>\n",
       "      <td>0.0</td>\n",
       "      <td>6</td>\n",
       "      <td>6</td>\n",
       "      <td>58</td>\n",
       "      <td>0</td>\n",
       "      <td>3</td>\n",
       "      <td>0</td>\n",
       "      <td>...</td>\n",
       "      <td>0.151785</td>\n",
       "      <td>-1.135811</td>\n",
       "      <td>-0.670569</td>\n",
       "      <td>1.537238</td>\n",
       "      <td>-0.442615</td>\n",
       "      <td>-1.776014</td>\n",
       "      <td>0.867644</td>\n",
       "      <td>-0.340891</td>\n",
       "      <td>-0.956517</td>\n",
       "      <td>0.090750</td>\n",
       "    </tr>\n",
       "    <tr>\n",
       "      <th>4</th>\n",
       "      <td>0.000000</td>\n",
       "      <td>0.0</td>\n",
       "      <td>0.000000</td>\n",
       "      <td>0.0</td>\n",
       "      <td>1</td>\n",
       "      <td>7</td>\n",
       "      <td>8</td>\n",
       "      <td>0</td>\n",
       "      <td>0</td>\n",
       "      <td>0</td>\n",
       "      <td>...</td>\n",
       "      <td>0.237434</td>\n",
       "      <td>-1.383445</td>\n",
       "      <td>-1.170076</td>\n",
       "      <td>-0.340379</td>\n",
       "      <td>1.167126</td>\n",
       "      <td>-0.954783</td>\n",
       "      <td>0.150731</td>\n",
       "      <td>1.005187</td>\n",
       "      <td>-0.774172</td>\n",
       "      <td>-0.395472</td>\n",
       "    </tr>\n",
       "  </tbody>\n",
       "</table>\n",
       "<p>5 rows × 38 columns</p>\n",
       "</div>"
      ],
      "text/plain": [
       "   jaccard_followers  jaccard_followees  cosine_followers  cosine_followees  \\\n",
       "0           0.000000                0.0          0.000000               0.0   \n",
       "1           0.000000                0.0          0.000000               0.0   \n",
       "2           0.000000                0.0          0.000000               0.0   \n",
       "3           0.333333                0.0          0.204124               0.0   \n",
       "4           0.000000                0.0          0.000000               0.0   \n",
       "\n",
       "   num_followers_s  num_followers_d  num_followees_s  num_followees_d  \\\n",
       "0                5                2              241                8   \n",
       "1                0                1                2                0   \n",
       "2                0                2                5                0   \n",
       "3                6                6               58                0   \n",
       "4                1                7                8                0   \n",
       "\n",
       "   inter_followers  inter_followees  ...         0         1         2  \\\n",
       "0                0                0  ...  0.021382 -1.240920 -0.673099   \n",
       "1                0                0  ... -0.664207 -1.356856 -0.075970   \n",
       "2                0                0  ...  0.186369 -0.672336 -0.279649   \n",
       "3                3                0  ...  0.151785 -1.135811 -0.670569   \n",
       "4                0                0  ...  0.237434 -1.383445 -1.170076   \n",
       "\n",
       "          3         4         5         6         7         8         9  \n",
       "0  0.404840  0.549191 -0.389357 -0.262482  0.270091 -0.738968 -0.054119  \n",
       "1 -0.667520  0.844451 -1.265052 -0.859328 -0.380905 -1.711755  1.250844  \n",
       "2  0.253951  0.254500 -0.504595 -0.032917  0.072711 -0.478684  0.117394  \n",
       "3  1.537238 -0.442615 -1.776014  0.867644 -0.340891 -0.956517  0.090750  \n",
       "4 -0.340379  1.167126 -0.954783  0.150731  1.005187 -0.774172 -0.395472  \n",
       "\n",
       "[5 rows x 38 columns]"
      ]
     },
     "execution_count": 110,
     "metadata": {},
     "output_type": "execute_result"
    }
   ],
   "source": [
    "df_final_train.head()"
   ]
  },
  {
   "cell_type": "markdown",
   "metadata": {},
   "source": [
    "# 4 Training the classifier\n",
    "Now that we have a set of nodes with features, we can easily train a machine learning model to perform link prediction on new instances. Note that running of the code cells below can take a long time. Firstly, the model parameter tuning is performed in section 4.1 - 4.3. Then, the optimal parameters are applied and tested in a final model.\n",
    "## 4.1 Training on all features\n",
    "The first classifier (below) trains a random forest model taking into account all the features. High scores on the test set are reached with this model (~91%). The first hyperparameter we tune is the \"estimators\" parameter in RandomForestClassifier of sklearn. We take its optimal value as 50."
   ]
  },
  {
   "cell_type": "code",
   "execution_count": 111,
   "metadata": {
    "scrolled": false
   },
   "outputs": [
    {
     "name": "stdout",
     "output_type": "stream",
     "text": [
      "Estimators =  10 Train Score 0.971889270851008 test Score 0.9126415902664724\n",
      "Estimators =  50 Train Score 0.9716870174705569 test Score 0.9170186246442765\n",
      "Estimators =  100 Train Score 0.9717145567536906 test Score 0.9159567331736801\n",
      "Estimators =  250 Train Score 0.971720064797641 test Score 0.9158358712426424\n",
      "Estimators =  450 Train Score 0.9717251794657932 test Score 0.9129083996775083\n"
     ]
    },
    {
     "data": {
      "text/plain": [
       "Text(0.5, 1.0, 'Estimators vs score at depth of 5')"
      ]
     },
     "execution_count": 111,
     "metadata": {},
     "output_type": "execute_result"
    },
    {
     "data": {
      "image/png": "[encoded data removed]",
      "text/plain": [
       "<Figure size 432x288 with 1 Axes>"
      ]
     },
     "metadata": {},
     "output_type": "display_data"
    }
   ],
   "source": [
    "from sklearn.ensemble import RandomForestClassifier\n",
    "from sklearn.metrics import f1_score\n",
    "\n",
    "estimators = [10,50,100,250,450]\n",
    "train_scores = []\n",
    "test_scores = []\n",
    "for i in estimators:\n",
    "    clf = RandomForestClassifier(bootstrap=True, class_weight=None, criterion='gini',\n",
    "            max_depth=5, max_features='auto', max_leaf_nodes=None,\n",
    "            min_impurity_decrease=0.0, min_impurity_split=None,\n",
    "            min_samples_leaf=52, min_samples_split=120,\n",
    "            min_weight_fraction_leaf=0.0, n_estimators=i, n_jobs=-1,random_state=25,verbose=0,warm_start=False)\n",
    "    clf.fit(df_final_train,y_train)\n",
    "    train_sc = f1_score(y_train,clf.predict(df_final_train))\n",
    "    test_sc = f1_score(y_test,clf.predict(df_final_test))\n",
    "    test_scores.append(test_sc)\n",
    "    train_scores.append(train_sc)\n",
    "    print('Estimators = ',i,'Train Score',train_sc,'test Score',test_sc)\n",
    "plt.plot(estimators,train_scores,label='Train Score')\n",
    "plt.plot(estimators,test_scores,label='Test Score')\n",
    "plt.xlabel('Estimators')\n",
    "plt.ylabel('Score')\n",
    "plt.title('Estimators vs score at depth of 5')"
   ]
  },
  {
   "cell_type": "markdown",
   "metadata": {},
   "source": [
    "## 4.2 Training only on Node2vec features\n",
    "In the following code we also try to fit a model when taking into account only the graph embedding features. We conclude (based on the graph of the test score) that this gives a very poor performance, so other features also need to be incorporated in the training set."
   ]
  },
  {
   "cell_type": "code",
   "execution_count": 127,
   "metadata": {
    "scrolled": true
   },
   "outputs": [],
   "source": [
    "train_emb_only = df_final_train[[0, 1, 2, 3, 4, 5, 6, 7, 8, 9]]\n",
    "test_emb_only = df_final_test[[0, 1, 2, 3, 4, 5, 6, 7, 8, 9]]"
   ]
  },
  {
   "cell_type": "code",
   "execution_count": 113,
   "metadata": {
    "scrolled": true
   },
   "outputs": [
    {
     "name": "stdout",
     "output_type": "stream",
     "text": [
      "Estimators =  10 Train Score 0.8280673936623907 test Score 0.00370498476765688\n",
      "Estimators =  50 Train Score 0.828537105768024 test Score 0.002695543368297748\n",
      "Estimators =  100 Train Score 0.8287229646612213 test Score 0.002808521400001331\n",
      "Estimators =  250 Train Score 0.8288698194766921 test Score 0.00244960992624544\n",
      "Estimators =  450 Train Score 0.8287734250334807 test Score 0.0026091326297993564\n"
     ]
    },
    {
     "data": {
      "text/plain": [
       "Text(0.5, 1.0, 'Estimators vs score at depth of 5')"
      ]
     },
     "execution_count": 113,
     "metadata": {},
     "output_type": "execute_result"
    },
    {
     "data": {
      "image/png": "[encoded data removed]",
      "text/plain": [
       "<Figure size 432x288 with 1 Axes>"
      ]
     },
     "metadata": {},
     "output_type": "display_data"
    }
   ],
   "source": [
    "from sklearn.ensemble import RandomForestClassifier\n",
    "from sklearn.metrics import f1_score\n",
    "\n",
    "estimators = [10,50,100,250,450]\n",
    "train_scores = []\n",
    "test_scores = []\n",
    "for i in estimators:\n",
    "    clf = RandomForestClassifier(bootstrap=True, class_weight=None, criterion='gini',\n",
    "            max_depth=5, max_features='auto', max_leaf_nodes=None,\n",
    "            min_impurity_decrease=0.0, min_impurity_split=None,\n",
    "            min_samples_leaf=52, min_samples_split=120,\n",
    "            min_weight_fraction_leaf=0.0, n_estimators=i, n_jobs=-1,random_state=25,verbose=0,warm_start=False)\n",
    "    clf.fit(train_emb_only,y_train)\n",
    "    train_sc = f1_score(y_train,clf.predict(train_emb_only))\n",
    "    test_sc = f1_score(y_test,clf.predict(test_emb_only))\n",
    "    test_scores.append(test_sc)\n",
    "    train_scores.append(train_sc)\n",
    "    print('Estimators = ',i,'Train Score',train_sc,'test Score',test_sc)\n",
    "plt.plot(estimators,train_scores,label='Train Score')\n",
    "plt.plot(estimators,test_scores,label='Test Score')\n",
    "plt.xlabel('Estimators')\n",
    "plt.ylabel('Score')\n",
    "plt.title('Estimators vs score at depth of 5')"
   ]
  },
  {
   "cell_type": "markdown",
   "metadata": {},
   "source": [
    "The we determine the \"depth\" parameter. Based on the figure below, we set the optimal depth of the classification trees at 3."
   ]
  },
  {
   "cell_type": "code",
   "execution_count": 114,
   "metadata": {},
   "outputs": [
    {
     "name": "stdout",
     "output_type": "stream",
     "text": [
      "depth =  3 Train Score 0.9662431150133609 test Score 0.9125165164334188\n",
      "depth =  9 Train Score 0.9796078812353076 test Score 0.8604559547692868\n",
      "depth =  11 Train Score 0.9838811796739166 test Score 0.846956783706533\n",
      "depth =  15 Train Score 0.9881674593378842 test Score 0.79988429341782\n",
      "depth =  20 Train Score 0.9886134446846788 test Score 0.801429749578853\n",
      "depth =  35 Train Score 0.9888611899887737 test Score 0.7889323785788482\n",
      "depth =  50 Train Score 0.9888786157707041 test Score 0.7910183784892215\n"
     ]
    },
    {
     "data": {
      "image/png": "[encoded data removed]",
      "text/plain": [
       "<Figure size 432x288 with 1 Axes>"
      ]
     },
     "metadata": {},
     "output_type": "display_data"
    }
   ],
   "source": [
    "depths = [3,9,11,15,20,35,50]\n",
    "train_scores = []\n",
    "test_scores = []\n",
    "for i in depths:\n",
    "    clf = RandomForestClassifier(bootstrap=True, class_weight=None, criterion='gini',\n",
    "            max_depth=i, max_features='auto', max_leaf_nodes=None,\n",
    "            min_impurity_decrease=0.0, min_impurity_split=None,\n",
    "            min_samples_leaf=52, min_samples_split=120,\n",
    "            min_weight_fraction_leaf=0.0, n_estimators=115, n_jobs=-1,random_state=25,verbose=0,warm_start=False)\n",
    "    clf.fit(df_final_train,y_train)\n",
    "    train_sc = f1_score(y_train,clf.predict(df_final_train))\n",
    "    test_sc = f1_score(y_test,clf.predict(df_final_test))\n",
    "    test_scores.append(test_sc)\n",
    "    train_scores.append(train_sc)\n",
    "    print('depth = ',i,'Train Score',train_sc,'test Score',test_sc)\n",
    "plt.plot(depths,train_scores,label='Train Score')\n",
    "plt.plot(depths,test_scores,label='Test Score')\n",
    "plt.xlabel('Depth')\n",
    "plt.ylabel('Score')\n",
    "plt.title('Depth vs score at depth of 5 at estimators = 115')\n",
    "plt.show()"
   ]
  },
  {
   "cell_type": "code",
   "execution_count": 115,
   "metadata": {},
   "outputs": [
    {
     "name": "stdout",
     "output_type": "stream",
     "text": [
      "mean test scores [0.97171026 0.97466238 0.98756125 0.98156327 0.97159028]\n"
     ]
    }
   ],
   "source": [
    "from sklearn.metrics import f1_score\n",
    "from sklearn.ensemble import RandomForestClassifier\n",
    "from sklearn.metrics import f1_score\n",
    "from sklearn.model_selection import RandomizedSearchCV\n",
    "from scipy.stats import randint as sp_randint\n",
    "from scipy.stats import uniform\n",
    "\n",
    "param_dist = {\"n_estimators\":sp_randint(10,125),\n",
    "              \"max_depth\": sp_randint(1,15),\n",
    "              \"min_samples_split\": sp_randint(10,190),\n",
    "              \"min_samples_leaf\": sp_randint(5,65)}\n",
    "\n",
    "clf = RandomForestClassifier(random_state=25,n_jobs=-1)\n",
    "\n",
    "rf_random = RandomizedSearchCV(clf, param_distributions=param_dist,\n",
    "                                   n_iter=5,cv=10,scoring='f1',random_state=25)\n",
    "\n",
    "rf_random.fit(df_final_train,y_train)\n",
    "print('mean test scores',rf_random.cv_results_['mean_test_score'])\n",
    "#print('mean train scores',rf_random.cv_results_['mean_train_score'])"
   ]
  },
  {
   "cell_type": "code",
   "execution_count": 116,
   "metadata": {
    "scrolled": true
   },
   "outputs": [
    {
     "name": "stdout",
     "output_type": "stream",
     "text": [
      "RandomForestClassifier(max_depth=14, min_samples_leaf=13, min_samples_split=166,\n",
      "                       n_estimators=14, n_jobs=-1, random_state=25)\n"
     ]
    }
   ],
   "source": [
    "print(rf_random.best_estimator_)"
   ]
  },
  {
   "cell_type": "markdown",
   "metadata": {},
   "source": [
    "## 4.3 Final model evaluation\n",
    "Below we define the final random forest classifier with parameters as determined in previous sections. We use f1 scores, confusion matrices and ROC curves as evaluation metrics."
   ]
  },
  {
   "cell_type": "code",
   "execution_count": 117,
   "metadata": {},
   "outputs": [],
   "source": [
    "clf = RandomForestClassifier(bootstrap=True, class_weight=None, criterion='gini',\n",
    "            max_depth=3, max_features='auto', max_leaf_nodes=None,\n",
    "            min_impurity_decrease=0.0, min_impurity_split=None,\n",
    "            min_samples_leaf=28, min_samples_split=114,\n",
    "            min_weight_fraction_leaf=0.0, n_estimators=50, n_jobs=-1,\n",
    "            oob_score=False, random_state=25, verbose=0, warm_start=False)"
   ]
  },
  {
   "cell_type": "code",
   "execution_count": 118,
   "metadata": {},
   "outputs": [],
   "source": [
    "clf.fit(df_final_train,y_train)\n",
    "y_train_pred = clf.predict(df_final_train)\n",
    "y_test_pred = clf.predict(df_final_test)"
   ]
  },
  {
   "cell_type": "markdown",
   "metadata": {},
   "source": [
    "The f1 score on the test set reaches 90%."
   ]
  },
  {
   "cell_type": "code",
   "execution_count": 119,
   "metadata": {},
   "outputs": [
    {
     "name": "stdout",
     "output_type": "stream",
     "text": [
      "Train f1 score 0.9612128409669869\n",
      "Test f1 score 0.9006787345765421\n"
     ]
    }
   ],
   "source": [
    "from sklearn.metrics import f1_score\n",
    "print('Train f1 score',f1_score(y_train,y_train_pred))\n",
    "print('Test f1 score',f1_score(y_test,y_test_pred))"
   ]
  },
  {
   "cell_type": "code",
   "execution_count": 120,
   "metadata": {},
   "outputs": [],
   "source": [
    "# Helper function to plot confusioin matrix\n",
    "from sklearn.metrics import confusion_matrix\n",
    "def plot_confusion_matrix(test_y, predict_y):\n",
    "    C = confusion_matrix(test_y, predict_y)\n",
    "    \n",
    "    A =(((C.T)/(C.sum(axis=1))).T)\n",
    "    \n",
    "    B =(C/C.sum(axis=0))\n",
    "    plt.figure(figsize=(20,4))\n",
    "    \n",
    "    labels = [0,1]\n",
    "    # representing A in heatmap format\n",
    "    cmap=sns.light_palette(\"blue\")\n",
    "    plt.subplot(1, 3, 1)\n",
    "    sns.heatmap(C, annot=True, cmap=cmap, fmt=\".3f\", xticklabels=labels, yticklabels=labels)\n",
    "    plt.xlabel('Predicted Class')\n",
    "    plt.ylabel('Original Class')\n",
    "    plt.title(\"Confusion matrix\")\n",
    "    \n",
    "    plt.subplot(1, 3, 2)\n",
    "    sns.heatmap(B, annot=True, cmap=cmap, fmt=\".3f\", xticklabels=labels, yticklabels=labels)\n",
    "    plt.xlabel('Predicted Class')\n",
    "    plt.ylabel('Original Class')\n",
    "    plt.title(\"Precision matrix\")\n",
    "    \n",
    "    plt.subplot(1, 3, 3)\n",
    "    # representing B in heatmap format\n",
    "    sns.heatmap(A, annot=True, cmap=cmap, fmt=\".3f\", xticklabels=labels, yticklabels=labels)\n",
    "    plt.xlabel('Predicted Class')\n",
    "    plt.ylabel('Original Class')\n",
    "    plt.title(\"Recall matrix\")\n",
    "    \n",
    "    plt.show()"
   ]
  },
  {
   "cell_type": "markdown",
   "metadata": {},
   "source": [
    "Confustion matrices indicate a good classifier performance. At least 90% of nodes are classified correctly. It is also observed (from the precision matrix) that the model makes most errors by classifying class 1 as class 0 in the test set."
   ]
  },
  {
   "cell_type": "code",
   "execution_count": 121,
   "metadata": {
    "scrolled": true
   },
   "outputs": [
    {
     "name": "stdout",
     "output_type": "stream",
     "text": [
      "Train confusion_matrix\n"
     ]
    },
    {
     "data": {
      "image/png": "[encoded data removed]",
      "text/plain": [
       "<Figure size 1440x288 with 6 Axes>"
      ]
     },
     "metadata": {},
     "output_type": "display_data"
    },
    {
     "name": "stdout",
     "output_type": "stream",
     "text": [
      "Test confusion_matrix\n"
     ]
    },
    {
     "data": {
      "image/png": "[encoded data removed]",
      "text/plain": [
       "<Figure size 1440x288 with 6 Axes>"
      ]
     },
     "metadata": {},
     "output_type": "display_data"
    }
   ],
   "source": [
    "print('Train confusion_matrix')\n",
    "plot_confusion_matrix(y_train,y_train_pred)\n",
    "print('Test confusion_matrix')\n",
    "plot_confusion_matrix(y_test,y_test_pred)"
   ]
  },
  {
   "cell_type": "markdown",
   "metadata": {},
   "source": [
    "Below, we model the ROC curve which plots the true positive rate as a function of the false positive rate."
   ]
  },
  {
   "cell_type": "code",
   "execution_count": 122,
   "metadata": {
    "scrolled": true
   },
   "outputs": [
    {
     "data": {
      "image/png": "[encoded data removed]",
      "text/plain": [
       "<Figure size 432x288 with 1 Axes>"
      ]
     },
     "metadata": {},
     "output_type": "display_data"
    }
   ],
   "source": [
    "from sklearn.metrics import roc_curve, auc\n",
    "fpr,tpr,ths = roc_curve(y_test,y_test_pred)\n",
    "auc_sc = auc(fpr, tpr)\n",
    "plt.plot(fpr, tpr, color='navy',label='ROC curve (area = %0.2f)' % auc_sc)\n",
    "plt.xlabel('False Positive Rate')\n",
    "plt.ylabel('True Positive Rate')\n",
    "plt.title('Receiver operating characteristic with test data')\n",
    "plt.legend()\n",
    "plt.show()"
   ]
  },
  {
   "cell_type": "markdown",
   "metadata": {},
   "source": [
    "We can also look at the relative importances of the different features. It appears that especially the weight features and number of followers/followees are important in the classification process. Also some of the graph embedding features are used with intermediate importances while some of the embedding features are not used at all."
   ]
  },
  {
   "cell_type": "code",
   "execution_count": 123,
   "metadata": {
    "scrolled": true
   },
   "outputs": [
    {
     "data": {
      "image/png": "[encoded data removed]",
      "text/plain": [
       "<Figure size 720x864 with 1 Axes>"
      ]
     },
     "metadata": {},
     "output_type": "display_data"
    }
   ],
   "source": [
    "features = df_final_train.columns\n",
    "importances = clf.feature_importances_\n",
    "indices = (np.argsort(importances))[-25:]\n",
    "plt.figure(figsize=(10,12))\n",
    "plt.title('Feature Importances')\n",
    "plt.barh(range(len(indices)), importances[indices], color='r', align='center')\n",
    "plt.yticks(range(len(indices)), [features[i] for i in indices])\n",
    "plt.xlabel('Relative Importance')\n",
    "plt.show()"
   ]
  },
  {
   "cell_type": "markdown",
   "metadata": {},
   "source": [
    "## 4.4 MLP model\n",
    "As a final test, we try training a MLP neural network on the training data and evaluate its performance with confusion matrices. The model has comparable performance to the random forest classifier."
   ]
  },
  {
   "cell_type": "code",
   "execution_count": 124,
   "metadata": {},
   "outputs": [
    {
     "name": "stdout",
     "output_type": "stream",
     "text": [
      "Iteration 1, loss = 0.05737345\n",
      "Iteration 2, loss = 0.04780291\n",
      "Iteration 3, loss = 0.04713520\n",
      "Iteration 4, loss = 0.04674468\n",
      "Iteration 5, loss = 0.04654391\n",
      "Iteration 6, loss = 0.04640289\n",
      "Iteration 7, loss = 0.04629162\n",
      "Iteration 8, loss = 0.04623269\n",
      "Iteration 9, loss = 0.04614846\n",
      "Iteration 10, loss = 0.04601144\n",
      "Iteration 11, loss = 0.04598761\n",
      "Iteration 12, loss = 0.04596316\n",
      "Iteration 13, loss = 0.04594761\n",
      "Iteration 14, loss = 0.04590835\n",
      "Iteration 15, loss = 0.04591056\n",
      "Iteration 16, loss = 0.04585240\n",
      "Iteration 17, loss = 0.04591249\n",
      "Iteration 18, loss = 0.04586020\n",
      "Iteration 19, loss = 0.04584760\n",
      "Iteration 20, loss = 0.04583672\n",
      "Iteration 21, loss = 0.04579659\n",
      "Training loss did not improve more than tol=0.000100 for 10 consecutive epochs. Stopping.\n"
     ]
    },
    {
     "data": {
      "text/plain": [
       "0.9504783333333333"
      ]
     },
     "execution_count": 124,
     "metadata": {},
     "output_type": "execute_result"
    }
   ],
   "source": [
    "from sklearn.neural_network import MLPClassifier\n",
    "clf = MLPClassifier(random_state=1, max_iter=300, verbose=1).fit(df_final_train, y_train)\n",
    "clf.score(df_final_test, y_test)"
   ]
  },
  {
   "cell_type": "code",
   "execution_count": 125,
   "metadata": {},
   "outputs": [
    {
     "data": {
      "text/plain": [
       "0.9504783333333333"
      ]
     },
     "execution_count": 125,
     "metadata": {},
     "output_type": "execute_result"
    }
   ],
   "source": [
    "clf.score(df_final_test, y_test)"
   ]
  },
  {
   "cell_type": "code",
   "execution_count": 126,
   "metadata": {},
   "outputs": [
    {
     "name": "stdout",
     "output_type": "stream",
     "text": [
      "Train confusion_matrix\n"
     ]
    },
    {
     "data": {
      "image/png": "[encoded data removed]",
      "text/plain": [
       "<Figure size 1440x288 with 6 Axes>"
      ]
     },
     "metadata": {},
     "output_type": "display_data"
    },
    {
     "name": "stdout",
     "output_type": "stream",
     "text": [
      "Test confusion_matrix\n"
     ]
    },
    {
     "data": {
      "image/png": "[encoded data removed]",
      "text/plain": [
       "<Figure size 1440x288 with 6 Axes>"
      ]
     },
     "metadata": {},
     "output_type": "display_data"
    }
   ],
   "source": [
    "y_train_pred = clf.predict(df_final_train)\n",
    "y_test_pred = clf.predict(df_final_test)\n",
    "\n",
    "print('Train confusion_matrix')\n",
    "plot_confusion_matrix(y_train,y_train_pred)\n",
    "print('Test confusion_matrix')\n",
    "plot_confusion_matrix(y_test,y_test_pred)"
   ]
  },
  {
   "cell_type": "markdown",
   "metadata": {},
   "source": [
    "# 5. Conclusion\n",
    "We have created a model which is able to predict new friendship recommendations based on a facebook dataset. First, a large amount of features are extracted from the graph data (including graph embedding using node2vec) and a training and test set were created. Then , a random forest classifier is trained with an eye on classifying node pairs that should be linked as 1 and nodes that should not be linked as 0. All assessed performance metrics indicate that the final classifier has an acceptable perfomance for this task. Finally, it was also observed that not all features af of equal importance in the classification task (e.g. some embedding features remain unused in the model).\n",
    "\n",
    "-- Task distribution --\n",
    "\n",
    "Vishal Rajput $\\rightarrow$ Code\n",
    "\n",
    "Nicolas Dubois + Javier Romero $\\rightarrow$ Graph embedding + documentation"
   ]
  },
  {
   "cell_type": "code",
   "execution_count": null,
   "metadata": {},
   "outputs": [],
   "source": []
  }
 ],
 "metadata": {
  "kernelspec": {
   "display_name": "Python 3",
   "language": "python",
   "name": "python3"
  },
  "language_info": {
   "codemirror_mode": {
    "name": "ipython",
    "version": 3
   },
   "file_extension": ".py",
   "mimetype": "text/x-python",
   "name": "python",
   "nbconvert_exporter": "python",
   "pygments_lexer": "ipython3",
   "version": "3.7.7"
  },
  "papermill": {
   "default_parameters": {},
   "duration": 345.081756,
   "end_time": "2021-05-06T09:45:48.704728",
   "environment_variables": {},
   "exception": null,
   "input_path": "__notebook__.ipynb",
   "output_path": "__notebook__.ipynb",
   "parameters": {},
   "start_time": "2021-05-06T09:40:03.622972",
   "version": "2.3.3"
  },
  "widgets": {
   "application/vnd.jupyter.widget-state+json": {
    "state": {
     "034143dba3aa44089b717dcde9cb0ef4": {
      "model_module": "@jupyter-widgets/base",
      "model_module_version": "1.2.0",
      "model_name": "LayoutModel",
      "state": {
       "_model_module": "@jupyter-widgets/base",
       "_model_module_version": "1.2.0",
       "_model_name": "LayoutModel",
       "_view_count": null,
       "_view_module": "@jupyter-widgets/base",
       "_view_module_version": "1.2.0",
       "_view_name": "LayoutView",
       "align_content": null,
       "align_items": null,
       "align_self": null,
       "border": null,
       "bottom": null,
       "display": null,
       "flex": null,
       "flex_flow": null,
       "grid_area": null,
       "grid_auto_columns": null,
       "grid_auto_flow": null,
       "grid_auto_rows": null,
       "grid_column": null,
       "grid_gap": null,
       "grid_row": null,
       "grid_template_areas": null,
       "grid_template_columns": null,
       "grid_template_rows": null,
       "height": null,
       "justify_content": null,
       "justify_items": null,
       "left": null,
       "margin": null,
       "max_height": null,
       "max_width": null,
       "min_height": null,
       "min_width": null,
       "object_fit": null,
       "object_position": null,
       "order": null,
       "overflow": null,
       "overflow_x": null,
       "overflow_y": null,
       "padding": null,
       "right": null,
       "top": null,
       "visibility": null,
       "width": null
      }
     },
     "29cfeb57abe045fb8f44131774e0f558": {
      "model_module": "@jupyter-widgets/controls",
      "model_module_version": "1.5.0",
      "model_name": "ProgressStyleModel",
      "state": {
       "_model_module": "@jupyter-widgets/controls",
       "_model_module_version": "1.5.0",
       "_model_name": "ProgressStyleModel",
       "_view_count": null,
       "_view_module": "@jupyter-widgets/base",
       "_view_module_version": "1.2.0",
       "_view_name": "StyleView",
       "bar_color": null,
       "description_width": ""
      }
     },
     "552009ae15af418188d0eefef86d1042": {
      "model_module": "@jupyter-widgets/controls",
      "model_module_version": "1.5.0",
      "model_name": "FloatProgressModel",
      "state": {
       "_dom_classes": [],
       "_model_module": "@jupyter-widgets/controls",
       "_model_module_version": "1.5.0",
       "_model_name": "FloatProgressModel",
       "_view_count": null,
       "_view_module": "@jupyter-widgets/controls",
       "_view_module_version": "1.5.0",
       "_view_name": "ProgressView",
       "bar_style": "success",
       "description": "",
       "description_tooltip": null,
       "layout": "IPY_MODEL_fb7047ec9136470aa8b68fec2f035818",
       "max": 419550,
       "min": 0,
       "orientation": "horizontal",
       "style": "IPY_MODEL_29cfeb57abe045fb8f44131774e0f558",
       "value": 419550
      }
     },
     "588c6d31e27e4b8987d7e1bcfbee8302": {
      "model_module": "@jupyter-widgets/controls",
      "model_module_version": "1.5.0",
      "model_name": "DescriptionStyleModel",
      "state": {
       "_model_module": "@jupyter-widgets/controls",
       "_model_module_version": "1.5.0",
       "_model_name": "DescriptionStyleModel",
       "_view_count": null,
       "_view_module": "@jupyter-widgets/base",
       "_view_module_version": "1.2.0",
       "_view_name": "StyleView",
       "description_width": ""
      }
     },
     "660b547efed542cabb6cf971608d97ef": {
      "model_module": "@jupyter-widgets/controls",
      "model_module_version": "1.5.0",
      "model_name": "DescriptionStyleModel",
      "state": {
       "_model_module": "@jupyter-widgets/controls",
       "_model_module_version": "1.5.0",
       "_model_name": "DescriptionStyleModel",
       "_view_count": null,
       "_view_module": "@jupyter-widgets/base",
       "_view_module_version": "1.2.0",
       "_view_name": "StyleView",
       "description_width": ""
      }
     },
     "6a66efac28064109bcebb580afb4c109": {
      "model_module": "@jupyter-widgets/controls",
      "model_module_version": "1.5.0",
      "model_name": "HBoxModel",
      "state": {
       "_dom_classes": [],
       "_model_module": "@jupyter-widgets/controls",
       "_model_module_version": "1.5.0",
       "_model_name": "HBoxModel",
       "_view_count": null,
       "_view_module": "@jupyter-widgets/controls",
       "_view_module_version": "1.5.0",
       "_view_name": "HBoxView",
       "box_style": "",
       "children": [
        "IPY_MODEL_84ac4ee0679846c9adf14075e689cb2d",
        "IPY_MODEL_552009ae15af418188d0eefef86d1042",
        "IPY_MODEL_f5742eb5758847759669b09dc683671d"
       ],
       "layout": "IPY_MODEL_ec994fa4706c4a4dab582f7aef2ea9f7"
      }
     },
     "84ac4ee0679846c9adf14075e689cb2d": {
      "model_module": "@jupyter-widgets/controls",
      "model_module_version": "1.5.0",
      "model_name": "HTMLModel",
      "state": {
       "_dom_classes": [],
       "_model_module": "@jupyter-widgets/controls",
       "_model_module_version": "1.5.0",
       "_model_name": "HTMLModel",
       "_view_count": null,
       "_view_module": "@jupyter-widgets/controls",
       "_view_module_version": "1.5.0",
       "_view_name": "HTMLView",
       "description": "",
       "description_tooltip": null,
       "layout": "IPY_MODEL_e56eac0a9b71416e926c6f8e675c4cb2",
       "placeholder": "​",
       "style": "IPY_MODEL_588c6d31e27e4b8987d7e1bcfbee8302",
       "value": "Computing transition probabilities: 100%"
      }
     },
     "e56eac0a9b71416e926c6f8e675c4cb2": {
      "model_module": "@jupyter-widgets/base",
      "model_module_version": "1.2.0",
      "model_name": "LayoutModel",
      "state": {
       "_model_module": "@jupyter-widgets/base",
       "_model_module_version": "1.2.0",
       "_model_name": "LayoutModel",
       "_view_count": null,
       "_view_module": "@jupyter-widgets/base",
       "_view_module_version": "1.2.0",
       "_view_name": "LayoutView",
       "align_content": null,
       "align_items": null,
       "align_self": null,
       "border": null,
       "bottom": null,
       "display": null,
       "flex": null,
       "flex_flow": null,
       "grid_area": null,
       "grid_auto_columns": null,
       "grid_auto_flow": null,
       "grid_auto_rows": null,
       "grid_column": null,
       "grid_gap": null,
       "grid_row": null,
       "grid_template_areas": null,
       "grid_template_columns": null,
       "grid_template_rows": null,
       "height": null,
       "justify_content": null,
       "justify_items": null,
       "left": null,
       "margin": null,
       "max_height": null,
       "max_width": null,
       "min_height": null,
       "min_width": null,
       "object_fit": null,
       "object_position": null,
       "order": null,
       "overflow": null,
       "overflow_x": null,
       "overflow_y": null,
       "padding": null,
       "right": null,
       "top": null,
       "visibility": null,
       "width": null
      }
     },
     "ec994fa4706c4a4dab582f7aef2ea9f7": {
      "model_module": "@jupyter-widgets/base",
      "model_module_version": "1.2.0",
      "model_name": "LayoutModel",
      "state": {
       "_model_module": "@jupyter-widgets/base",
       "_model_module_version": "1.2.0",
       "_model_name": "LayoutModel",
       "_view_count": null,
       "_view_module": "@jupyter-widgets/base",
       "_view_module_version": "1.2.0",
       "_view_name": "LayoutView",
       "align_content": null,
       "align_items": null,
       "align_self": null,
       "border": null,
       "bottom": null,
       "display": null,
       "flex": null,
       "flex_flow": null,
       "grid_area": null,
       "grid_auto_columns": null,
       "grid_auto_flow": null,
       "grid_auto_rows": null,
       "grid_column": null,
       "grid_gap": null,
       "grid_row": null,
       "grid_template_areas": null,
       "grid_template_columns": null,
       "grid_template_rows": null,
       "height": null,
       "justify_content": null,
       "justify_items": null,
       "left": null,
       "margin": null,
       "max_height": null,
       "max_width": null,
       "min_height": null,
       "min_width": null,
       "object_fit": null,
       "object_position": null,
       "order": null,
       "overflow": null,
       "overflow_x": null,
       "overflow_y": null,
       "padding": null,
       "right": null,
       "top": null,
       "visibility": null,
       "width": null
      }
     },
     "f5742eb5758847759669b09dc683671d": {
      "model_module": "@jupyter-widgets/controls",
      "model_module_version": "1.5.0",
      "model_name": "HTMLModel",
      "state": {
       "_dom_classes": [],
       "_model_module": "@jupyter-widgets/controls",
       "_model_module_version": "1.5.0",
       "_model_name": "HTMLModel",
       "_view_count": null,
       "_view_module": "@jupyter-widgets/controls",
       "_view_module_version": "1.5.0",
       "_view_name": "HTMLView",
       "description": "",
       "description_tooltip": null,
       "layout": "IPY_MODEL_034143dba3aa44089b717dcde9cb0ef4",
       "placeholder": "​",
       "style": "IPY_MODEL_660b547efed542cabb6cf971608d97ef",
       "value": " 419550/419550 [00:20&lt;00:00, 33998.53it/s]"
      }
     },
     "fb7047ec9136470aa8b68fec2f035818": {
      "model_module": "@jupyter-widgets/base",
      "model_module_version": "1.2.0",
      "model_name": "LayoutModel",
      "state": {
       "_model_module": "@jupyter-widgets/base",
       "_model_module_version": "1.2.0",
       "_model_name": "LayoutModel",
       "_view_count": null,
       "_view_module": "@jupyter-widgets/base",
       "_view_module_version": "1.2.0",
       "_view_name": "LayoutView",
       "align_content": null,
       "align_items": null,
       "align_self": null,
       "border": null,
       "bottom": null,
       "display": null,
       "flex": null,
       "flex_flow": null,
       "grid_area": null,
       "grid_auto_columns": null,
       "grid_auto_flow": null,
       "grid_auto_rows": null,
       "grid_column": null,
       "grid_gap": null,
       "grid_row": null,
       "grid_template_areas": null,
       "grid_template_columns": null,
       "grid_template_rows": null,
       "height": null,
       "justify_content": null,
       "justify_items": null,
       "left": null,
       "margin": null,
       "max_height": null,
       "max_width": null,
       "min_height": null,
       "min_width": null,
       "object_fit": null,
       "object_position": null,
       "order": null,
       "overflow": null,
       "overflow_x": null,
       "overflow_y": null,
       "padding": null,
       "right": null,
       "top": null,
       "visibility": null,
       "width": null
      }
     }
    },
    "version_major": 2,
    "version_minor": 0
   }
  }
 },
 "nbformat": 4,
 "nbformat_minor": 5
}
